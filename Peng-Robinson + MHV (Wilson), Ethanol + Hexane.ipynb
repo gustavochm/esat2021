{
 "cells": [
  {
   "cell_type": "markdown",
   "metadata": {},
   "source": [
    "# Phase Equilibria and Interfacial Tension of Ethanol (1) + Hexane (2) mixture\n",
    "\n",
    "In this notebook, the calculation of a bubble point and interfacial tension of a mixture of Ethanol (1) and Hexane (2) is carried out using Peng-Robinson EoS alongside MHV advanced mixing rule and Wilson's model.\n",
    "\n",
    "First, it is necessary to import the required packages:\n",
    "\n",
    "- **numpy**: interface to numerical Python.\n",
    "- **matplotlib**: plotting in Python.\n",
    "- **phasepy**: for fluid phase equilibria and interfacial properties computation."
   ]
  },
  {
   "cell_type": "code",
   "execution_count": 1,
   "metadata": {},
   "outputs": [],
   "source": [
    "import numpy as np\n",
    "import matplotlib.pyplot as plt\n",
    "from phasepy import component, mixture, prsveos\n",
    "from phasepy.equilibrium import bubblePy\n",
    "from phasepy.sgt import sgt_mix_beta0, sgt_mix"
   ]
  },
  {
   "cell_type": "markdown",
   "metadata": {},
   "source": [
    "Now it is required to define pure components, this is done with the ``component`` class function. This function stores the component critical information, such as the critical temperature (``Tc``), the critical pressure (``Pc``) in bar, the critical compressibility (``Zc``), the critical volume (``Vc``) in cm3/mol and the acentric factor (``w``). Additionally, the ``component`` function can store parameters for the Stryjek-Vera $\\alpha$ function (``ksv``), Antoine parameters (``Ant``), influence parameter polynomial coefficients (``cii``) in J m5 / mol2 and group contribution information (``GC``) to be used in UNIFAC activity coefficient model. \n",
    "\n",
    "Components can be used to create mixtures with the ``mixture`` class function. Once a mixture has been created, more components can be added to the mixture with the ``add_component`` method, and also interaction parameters can be supplied.\n",
    "\n",
    "In the following code block, the components ``ethanol`` and ``hexane`` are created and then a mixture is set up with them. Parameters for the Wilson activity coefficient model are set to this mixture and finally an object ``eos`` is create with the Peng-Robinson EoS with the MHV mixing rule and Wilsons model. "
   ]
  },
  {
   "cell_type": "code",
   "execution_count": 2,
   "metadata": {},
   "outputs": [],
   "source": [
    "ethanol = component(name = 'Ethanol', Tc = 514.0, Pc = 61.37, Zc = 0.241, Vc = 168.0, w = 0.643558,\n",
    "                ksv = [1.27092923, 0.0440421 ],\n",
    "                Ant = [  12.26474221, 3851.89284329,  -36.99114863],\n",
    "                cii = [ 2.35206942e-24, -1.32498074e-21,  2.31193555e-19],\n",
    "                GC = {'CH3':1, 'CH2':1, 'OH(P)':1})\n",
    "\n",
    "hexane = component(name = 'n-Hexane', Tc = 507.6, Pc = 30.25, Zc = 0.266, Vc = 371.0, w = 0.301261, \n",
    "                ksv = [ 0.81185833, -0.08790848],\n",
    "                Ant = [   9.71847379, 3052.95948936,  -27.34841604],\n",
    "                cii = [ 5.03377433e-24, -3.41297789e-21,  9.97008208e-19],\n",
    "                GC = {'CH3':2, 'CH2':4})\n",
    "\n",
    "mix = mixture(ethanol, hexane)\n",
    "# Wilson Model energy in Kelvin\n",
    "A12, A21 = np.array([1141.56994427,  125.25729314])\n",
    "A = np.array([[0, A12], [A21, 0]])\n",
    "mix.wilson(A)\n",
    "\n",
    "eos = prsveos(mix, 'mhv_wilson')"
   ]
  },
  {
   "cell_type": "markdown",
   "metadata": {},
   "source": [
    "The ``eos`` object includes all the necessary methods for phase equilibria and interfacial properties calculations.\n",
    "\n",
    "The phase equilibria of a multiphase mixture is guaranteed by the following conditions:\n",
    "\n",
    "$$\tT^\\alpha = T^\\beta = ... = T^\\pi $$ \n",
    "$$\tP^\\alpha = P^\\beta = ... = P^\\pi $$\n",
    "$$\tx_i^\\alpha\\hat{\\phi}_i^\\alpha = x_i^\\beta \\hat{\\phi}_i^\\beta = ... = x_i^\\pi \\hat{\\phi}_i^\\pi \\quad i = 1,...,c $$ \n",
    "\n",
    "In phasepy and SGTPy the solution procedure will depend on the specification and the equilibria type. Available calculations are:\n",
    "\n",
    "- ``flash``: for isobaric-isothermal two-phase flash.\n",
    "- ``bubbleTy`` and ``bubblePy``: for bubble points calculations.\n",
    "- ``dewTx`` and ``dewPx``: for dew points calculations.\n",
    "- ``lle``: for two liquid equilibria.\n",
    "- ``vlleb`` and ``vlle``: for three-phase equilibria.\n",
    "\n",
    "In the following code block, bubble point at fixed temperature is computed with the ``bubblePy`` function. The ``full_output`` option allows obtaining all the calculation information."
   ]
  },
  {
   "cell_type": "code",
   "execution_count": 3,
   "metadata": {},
   "outputs": [
    {
     "name": "stdout",
     "output_type": "stream",
     "text": [
      "Computed bubble pressure:  0.26265323289734516\n",
      "Computed bubble composition:  [0.2233434 0.7766566]\n",
      "Error in bubble point calculation:  7.224333353761381e-10\n"
     ]
    }
   ],
   "source": [
    "T = 298.15 # Kelvin\n",
    "X = np.array([0.37, 0.63]) # liquid molar fractions\n",
    "sol = bubblePy(X, 0.21, X, T, eos, full_output=True)\n",
    "Y, P = sol.Y, sol.P\n",
    "vl, vv = sol.v1, sol.v2\n",
    "\n",
    "# computing density vectors in mol/cm3\n",
    "rhol = X/vl\n",
    "rhov = Y/vv\n",
    "\n",
    "print('Computed bubble pressure: ', P)\n",
    "print('Computed bubble composition: ', Y)\n",
    "print('Error in bubble point calculation: ', sol.error)"
   ]
  },
  {
   "cell_type": "markdown",
   "metadata": {},
   "source": [
    "The computed phase equilibria point is used to compute the density vector at equilibrium (``rhol``, ``rhov``). These are required to study the interfacial behavior of the mixture at the given conditions.\n",
    "\n",
    "The density profiles at equilibrium furfill the following Euler-Lagrange problem:\n",
    "\n",
    "$$ \\sum_j c_{ij} \\frac{d^2 \\rho_j}{dz^2} = \\mu_i - \\mu_i^0 \\qquad i = 1,...,c $$\n",
    "\n",
    "$$  \\rho(z \\rightarrow -\\infty) = \\rho^\\alpha \\qquad \\rho(z \\rightarrow \\infty) = \\rho^\\beta $$ \n",
    "\n",
    "\n",
    "In the special case when all $\\beta_{ij}$ are equal to zero the system simplifies to the following algebraic system:\n",
    "\n",
    "\n",
    "$$ \\sqrt{c_{rr}} \\left[ \\mu_j(\\rho) -  \\mu_j^0 \\right] = \\sqrt{c_{jj}} \\left[ \\mu_r(\\rho)  -  \\mu_r^0 \\right] \\qquad j =1,...,c \\neq r  $$ \n",
    "\n",
    "The function``sgt_mix_beta0`` is used to compute the density profiles and interfacial tension when $\\beta_{ij}=0$. This function incorporates three solution methods:\n",
    "- ``reference``: uses a reference component to solve the density profiles. Useful when there are no stationary points in the interface.\n",
    "- ``cornelisse``: uses Cornelisse's path function to solve the density profiles. Useful when there are stationary points on the interface, it requires several points to converge (n=1000).\n",
    "- ``liang``: uses Liang's path function to solve the density profiles. Useful when there are stationary points on the interface."
   ]
  },
  {
   "cell_type": "code",
   "execution_count": 4,
   "metadata": {},
   "outputs": [],
   "source": [
    "# predictive SGT, beta = 0 \n",
    "bij = 0.\n",
    "beta = np.array([[0, bij], [bij, 0]])\n",
    "eos.beta_sgt(beta)\n",
    "\n",
    "sol_sgtb0 = sgt_mix_beta0(rhov, rhol, T, P, eos, n=1000, method='cornelisse', full_output=True)"
   ]
  },
  {
   "cell_type": "markdown",
   "metadata": {},
   "source": [
    "When at least one $\\beta_{ij}$ is different to zero, the function ``sgt_mix`` must be used to solve the density profiles. This function uses orthogonal collocation to solve the Euler-Lagrande problem at a given interfacial length. This function will increase the interfacial length until the interfacial tension changes reach a given tolerance."
   ]
  },
  {
   "cell_type": "code",
   "execution_count": 5,
   "metadata": {},
   "outputs": [
    {
     "name": "stderr",
     "output_type": "stream",
     "text": [
      "C:\\Users\\Gusta\\anaconda3\\lib\\site-packages\\phasepy-0.0.49-py3.8-win-amd64.egg\\phasepy\\cubic\\cubicmix.py:643: RuntimeWarning: invalid value encountered in log\n",
      "  g = np.log(V_B / V)\n"
     ]
    }
   ],
   "source": [
    "# optimized SGT, beta != 0 \n",
    "bij = 0.10863948576101912\n",
    "beta = np.array([[0, bij], [bij, 0]])\n",
    "eos.beta_sgt(beta)\n",
    "\n",
    "sol_sgt = sgt_mix(rhov, rhol, T, P, eos, n=50, ten_tol=0.001, full_output=True)"
   ]
  },
  {
   "cell_type": "markdown",
   "metadata": {},
   "source": [
    "The interfacial tension results are shown bellow."
   ]
  },
  {
   "cell_type": "code",
   "execution_count": 6,
   "metadata": {},
   "outputs": [
    {
     "name": "stdout",
     "output_type": "stream",
     "text": [
      "Computed interfacial tension beta=0:  21.66680144210264 mN/m\n",
      "Computed interfacial tension beta=0.108:  16.531679570389652 mN/m\n"
     ]
    }
   ],
   "source": [
    "print('Computed interfacial tension beta=0: ', sol_sgtb0.tension, 'mN/m')\n",
    "print('Computed interfacial tension beta=0.108: ', sol_sgt.tension, 'mN/m')"
   ]
  },
  {
   "cell_type": "markdown",
   "metadata": {},
   "source": [
    "While the density profiles are plotted below. It can be seen that the $\\beta_{ij}$ factor impacts on the computed interfacial tension as well as in the shape of the density profiles, for this mixture it corrects an adsorption-desorption phenomenon."
   ]
  },
  {
   "cell_type": "code",
   "execution_count": 7,
   "metadata": {},
   "outputs": [
    {
     "data": {
      "image/png": "[encoded data removed]",
      "text/plain": [
       "<Figure size 720x360 with 2 Axes>"
      ]
     },
     "metadata": {
      "needs_background": "light"
     },
     "output_type": "display_data"
    }
   ],
   "source": [
    "# reading computed density profiles\n",
    "z_b0 = sol_sgtb0.z\n",
    "rho_b0 = sol_sgtb0.rho * 1000 # kmol/m3\n",
    "\n",
    "z_beta = sol_sgt.z\n",
    "rho_beta = sol_sgt.rho * 1000 # kmol/m3\n",
    "\n",
    "\n",
    "fig = plt.figure(figsize = (10, 5))\n",
    "fig.subplots_adjust(wspace=0.3)\n",
    "ax1 = fig.add_subplot(121)\n",
    "ax2 = fig.add_subplot(122)\n",
    "\n",
    "ax1.plot(z_b0/z_b0[-1], rho_b0[0], color='k')\n",
    "ax2.plot(z_b0/z_b0[-1], rho_b0[1], color='k', label=r'$\\beta_{ij} =0 $')\n",
    "\n",
    "ax1.plot(z_beta/z_beta[-1], rho_beta[0], '--', color='b')\n",
    "ax2.plot(z_beta/z_beta[-1], rho_beta[1], '--', color='b', label=r'$\\beta_{ij} \\neq 0 $')\n",
    "\n",
    "\n",
    "rho_lim = 14. # kmol/m3\n",
    "z_lim = 1. # dimensionless\n",
    "ax1.set_xlim([0, z_lim])\n",
    "ax1.set_ylim([0, rho_lim])\n",
    "\n",
    "ax2.set_xlim([0, z_lim])\n",
    "ax2.set_ylim([0, rho_lim])\n",
    "\n",
    "ax1.set_xlabel(r'z [adim]')\n",
    "ax2.set_xlabel(r'z [adim]')\n",
    "\n",
    "ax1.set_ylabel(r'$\\rho_{ethanol}$  / kmol m$^{-3}$')\n",
    "ax2.set_ylabel(r'$\\rho_{n-hexane}$  / kmol m$^{-3}$')\n",
    "\n",
    "ax2.legend(loc='best')\n",
    "\n",
    "ax1.tick_params(direction='in')\n",
    "ax2.tick_params(direction='in')"
   ]
  },
  {
   "cell_type": "code",
   "execution_count": null,
   "metadata": {},
   "outputs": [],
   "source": []
  }
 ],
 "metadata": {
  "kernelspec": {
   "display_name": "Python 3",
   "language": "python",
   "name": "python3"
  },
  "language_info": {
   "codemirror_mode": {
    "name": "ipython",
    "version": 3
   },
   "file_extension": ".py",
   "mimetype": "text/x-python",
   "name": "python",
   "nbconvert_exporter": "python",
   "pygments_lexer": "ipython3",
   "version": "3.8.3"
  }
 },
 "nbformat": 4,
 "nbformat_minor": 4
}
