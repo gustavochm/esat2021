{
 "cells": [
  {
   "cell_type": "markdown",
   "metadata": {},
   "source": [
    "# Phase Equilibria and Interfacial Tension of Ethanol (1) + Hexane (2) mixture\n",
    "\n",
    "In this notebook, the calculation of a bubble point and interfacial tension of a mixture of Ethanol (1) and Hexane (2) is carried out using SAFT-VR-Mie Equation of State.\n",
    "\n",
    "First, it is necessary to import the required packages:\n",
    "\n",
    "- **numpy**: interface to numerical Python.\n",
    "- **matplotlib**: plotting in Python.\n",
    "- **SGTPy**: for fluid phase equilibria and interfacial properties computation."
   ]
  },
  {
   "cell_type": "code",
   "execution_count": 1,
   "metadata": {},
   "outputs": [],
   "source": [
    "import numpy as np\n",
    "import matplotlib.pyplot as plt\n",
    "from SGTPy import component, mixture, saftvrmie\n",
    "from SGTPy.equilibrium import bubblePy\n",
    "from SGTPy.sgt import sgt_mix_beta0, sgt_mix"
   ]
  },
  {
   "cell_type": "markdown",
   "metadata": {},
   "source": [
    "Now it is required to define pure components, this is done with the ``component`` class function. This function stores the molecular parameters, such as the number of segments (``ms``), the shape parameter (``sigma``) in Amstrong, the energy parameter (``eps``) in Kelvin units, the attractive and repulsive exponents (``lambda_a`` and ``lambda_r``). \n",
    "If the ring molecules, the ``ring`` parameter sets the geometric factor to model it correctly. If the component self-associate, the association scheme is described by the triplet ``sites=[B, P, N]`` which indicates the number of bipolar, positive and negative sites, the association energy (``eAB``) in Kelvin units and the association range and association site position  (``rcAB`` and``rdAB``, respectively) in ``sigma`` units. Finally, if the component is a polar fluid, the number of polar sites (``npol``) and the dipolar moment (``mupol``) in Debye are requires.\n",
    "\n",
    "Additionally, the ``component`` function can store influence parameter coefficients (``cii``) in J m5 / mol2.\n",
    "\n",
    "Components can be used to create mixtures with the ``mixture`` class function. Once a mixture has been created, more components can be added to the mixture with the ``add_component`` method, and also interaction parameters can be supplied.\n",
    "\n",
    "In the following code block, the components ``ethanol`` and ``hexane`` are created and then a mixture is set up with them. Parameters for the Wilson activity coefficient model are set to this mixture and finally an object ``eos`` is create with the SAFT-VR-Mie EoS "
   ]
  },
  {
   "cell_type": "code",
   "execution_count": 2,
   "metadata": {},
   "outputs": [],
   "source": [
    "ethanol = component('ethanol2C', ms = 1.7728, sigma = 3.5592 , eps = 224.50,\n",
    "                    lambda_r = 11.319, lambda_a = 6., eAB = 3018.05, rcAB = 0.3547,\n",
    "                    rdAB = 0.4, sites = [1,0,1], cii=5.3195894757162963e-20)\n",
    "\n",
    "hexane = component('hexane', ms = 1.96720036, sigma = 4.54762477, eps = 377.60127994, \n",
    "                   lambda_r = 18.41193194, cii = 3.6037857292110995e-19)\n",
    "\n",
    "mix = mixture(ethanol, hexane)\n",
    "kij = 0.01095218816659637\n",
    "Kij = np.array([[0, kij], [kij, 0]])\n",
    "mix.kij_saft(Kij)\n",
    "eos = saftvrmie(mix)"
   ]
  },
  {
   "cell_type": "markdown",
   "metadata": {},
   "source": [
    "The ``eos`` object includes all the necessary methods for phase equilibria and interfacial properties calculations.\n",
    "\n",
    "The phase equilibria of a multiphase mixture is guaranteed by the following conditions:\n",
    "\n",
    "$$\tT^\\alpha = T^\\beta = ... = T^\\pi $$ \n",
    "$$\tP^\\alpha = P^\\beta = ... = P^\\pi $$\n",
    "$$\tx_i^\\alpha\\hat{\\phi}_i^\\alpha = x_i^\\beta \\hat{\\phi}_i^\\beta = ... = x_i^\\pi \\hat{\\phi}_i^\\pi \\quad i = 1,...,c $$ \n",
    "\n",
    "In phasepy and SGTPy the solution procedure will depend on the specification and the equilibria type. Available calculations are:\n",
    "\n",
    "- ``flash``: for isobaric-isothermal two-phase flash.\n",
    "- ``bubbleTy`` and ``bubblePy``: for bubble points calculations.\n",
    "- ``dewTx`` and ``dewPx``: for dew points calculations.\n",
    "- ``lle``: for two liquid equilibria.\n",
    "- ``vlleb`` and ``vlle``: for three-phase equilibria.\n",
    "\n",
    "In the following code block, bubble point at fixed temperature is computed with the ``bubblePy`` function. The ``full_output`` option allows obtaining all the calculation information."
   ]
  },
  {
   "cell_type": "code",
   "execution_count": 3,
   "metadata": {},
   "outputs": [
    {
     "name": "stdout",
     "output_type": "stream",
     "text": [
      "Computed bubble pressure:  25912.356884605568\n",
      "Computed bubble composition:  [0.25793234 0.74206766]\n",
      "Error in bubble point calculation:  8.737455203799982e-12\n"
     ]
    }
   ],
   "source": [
    "T = 298.15 # Kelvin\n",
    "X = np.array([0.37, 0.63]) # liquid molar fractions\n",
    "sol = bubblePy(X, 0.21e5, X, T, eos, full_output=True)\n",
    "Y, P = sol.Y, sol.P\n",
    "vl, vv = sol.v1, sol.v2\n",
    "\n",
    "# computing density vectors in mol/m3\n",
    "rhol = X/vl\n",
    "rhov = Y/vv\n",
    "\n",
    "print('Computed bubble pressure: ', P)\n",
    "print('Computed bubble composition: ', Y)\n",
    "print('Error in bubble point calculation: ', sol.error)"
   ]
  },
  {
   "cell_type": "markdown",
   "metadata": {},
   "source": [
    "The computed phase equilibria point is used to compute the density vector at equilibrium (``rhol``, ``rhov``). These are required to study the interfacial behavior of the mixture at the given conditions.\n",
    "\n",
    "The density profiles at equilibrium furfill the following Euler-Lagrange problem:\n",
    "\n",
    "$$ \\sum_j c_{ij} \\frac{d^2 \\rho_j}{dz^2} = \\mu_i - \\mu_i^0 \\qquad i = 1,...,c $$\n",
    "\n",
    "$$  \\rho(z \\rightarrow -\\infty) = \\rho^\\alpha \\qquad \\rho(z \\rightarrow \\infty) = \\rho^\\beta $$ \n",
    "\n",
    "\n",
    "In the special case when all $\\beta_{ij}$ are equal to zero the system simplifies to the following algebraic system:\n",
    "\n",
    "\n",
    "$$ \\sqrt{c_{rr}} \\left[ \\mu_j(\\rho) -  \\mu_j^0 \\right] = \\sqrt{c_{jj}} \\left[ \\mu_r(\\rho)  -  \\mu_r^0 \\right] \\qquad j =1,...,c \\neq r  $$ \n",
    "\n",
    "The function``sgt_mix_beta0`` is used to compute the density profiles and interfacial tension when $\\beta_{ij}=0$. This function incorporates three solution methods:\n",
    "- ``reference``: uses a reference component to solve the density profiles. Useful when there are no stationary points in the interface.\n",
    "- ``liang``: uses Liang's path function to solve the density profiles. Useful when there are stationary points on the interface."
   ]
  },
  {
   "cell_type": "code",
   "execution_count": 4,
   "metadata": {},
   "outputs": [],
   "source": [
    "# predictive SGT, beta = 0 \n",
    "bij = 0.\n",
    "beta = np.array([[0, bij], [bij, 0]])\n",
    "eos.beta_sgt(beta)\n",
    "\n",
    "sol_sgtb0 = sgt_mix_beta0(rhov, rhol, T, P, eos, n=500, method='liang', full_output=True)"
   ]
  },
  {
   "cell_type": "markdown",
   "metadata": {},
   "source": [
    "When at least one $\\beta_{ij}$ is different to zero, the function ``sgt_mix`` must be used to solve the density profiles. This function uses orthogonal collocation to solve the Euler-Lagrande problem at a given interfacial length. This function will increase the interfacial length until the interfacial tension changes reach a given tolerance."
   ]
  },
  {
   "cell_type": "code",
   "execution_count": 5,
   "metadata": {},
   "outputs": [],
   "source": [
    "# optimized SGT, beta != 0 \n",
    "bij = 0.06486106024034907\n",
    "beta = np.array([[0, bij], [bij, 0]])\n",
    "eos.beta_sgt(beta)\n",
    "\n",
    "sol_sgt = sgt_mix(rhov, rhol, T, P, eos, n=30, ten_tol=0.01, full_output=True)"
   ]
  },
  {
   "cell_type": "markdown",
   "metadata": {},
   "source": [
    "The interfacial tension results are shown bellow."
   ]
  },
  {
   "cell_type": "code",
   "execution_count": 6,
   "metadata": {},
   "outputs": [
    {
     "name": "stdout",
     "output_type": "stream",
     "text": [
      "Computed interfacial tension beta=0:  16.985880532891642 mN/m\n",
      "Computed interfacial tension beta=0.108:  17.157261894485828 mN/m\n"
     ]
    }
   ],
   "source": [
    "print('Computed interfacial tension beta=0: ', sol_sgtb0.tension, 'mN/m')\n",
    "print('Computed interfacial tension beta=0.108: ', sol_sgt.tension, 'mN/m')"
   ]
  },
  {
   "cell_type": "markdown",
   "metadata": {},
   "source": [
    "While the density profiles are plotted below. It can be seen that the $\\beta_{ij}$ factor impacts on the computed interfacial tension as well as in the shape of the density profiles, for this mixture it corrects an adsorption-desorption phenomenon."
   ]
  },
  {
   "cell_type": "code",
   "execution_count": 7,
   "metadata": {},
   "outputs": [
    {
     "data": {
      "image/png": "[encoded data removed]",
      "text/plain": [
       "<Figure size 720x360 with 2 Axes>"
      ]
     },
     "metadata": {
      "needs_background": "light"
     },
     "output_type": "display_data"
    }
   ],
   "source": [
    "# reading computed density profiles\n",
    "z_b0 = sol_sgtb0.z\n",
    "rho_b0 = sol_sgtb0.rho / 1000 # kmol/m3\n",
    "\n",
    "z_beta = sol_sgt.z\n",
    "rho_beta = sol_sgt.rho / 1000 # kmol/m3\n",
    "\n",
    "\n",
    "fig = plt.figure(figsize = (10, 5))\n",
    "fig.subplots_adjust(wspace=0.3)\n",
    "ax1 = fig.add_subplot(121)\n",
    "ax2 = fig.add_subplot(122)\n",
    "\n",
    "ax1.plot(z_b0/z_b0[-1], rho_b0[0], color='k')\n",
    "ax2.plot(z_b0/z_b0[-1], rho_b0[1], color='k', label=r'$\\beta_{ij} =0 $')\n",
    "\n",
    "ax1.plot(z_beta/z_beta[-1], rho_beta[0], '--', color='b')\n",
    "ax2.plot(z_beta/z_beta[-1], rho_beta[1], '--', color='b', label=r'$\\beta_{ij} \\neq 0 $')\n",
    "\n",
    "\n",
    "rho_lim = 14. # kmol/m3\n",
    "z_lim = 1. # dimensionless\n",
    "ax1.set_xlim([0, z_lim])\n",
    "ax1.set_ylim([0, rho_lim])\n",
    "\n",
    "ax2.set_xlim([0, z_lim])\n",
    "ax2.set_ylim([0, rho_lim])\n",
    "\n",
    "ax1.set_xlabel(r'z [adim]')\n",
    "ax2.set_xlabel(r'z [adim]')\n",
    "\n",
    "ax1.set_ylabel(r'$\\rho_{ethanol}$  / kmol m$^{-3}$')\n",
    "ax2.set_ylabel(r'$\\rho_{n-hexane}$  / kmol m$^{-3}$')\n",
    "\n",
    "ax2.legend(loc='best')\n",
    "\n",
    "ax1.tick_params(direction='in')\n",
    "ax2.tick_params(direction='in')"
   ]
  },
  {
   "cell_type": "code",
   "execution_count": null,
   "metadata": {},
   "outputs": [],
   "source": []
  }
 ],
 "metadata": {
  "kernelspec": {
   "display_name": "Python 3",
   "language": "python",
   "name": "python3"
  },
  "language_info": {
   "codemirror_mode": {
    "name": "ipython",
    "version": 3
   },
   "file_extension": ".py",
   "mimetype": "text/x-python",
   "name": "python",
   "nbconvert_exporter": "python",
   "pygments_lexer": "ipython3",
   "version": "3.8.3"
  }
 },
 "nbformat": 4,
 "nbformat_minor": 4
}
