{
 "cells": [
  {
   "cell_type": "markdown",
   "metadata": {},
   "source": [
    "# Reuse of SGTPy phase equilibra and SGT functions\n",
    "\n",
    "In SGTPy the functions included in phasepy for phase equilibria and SGT solution are implemented for the SAFT-VR-Mie. These functions could be reuse with other models implemented by other users.\n",
    "\n",
    "In this notebook the needed methods and attributes that the ``eos`` should have implemented are described."
   ]
  },
  {
   "cell_type": "code",
   "execution_count": 1,
   "metadata": {},
   "outputs": [],
   "source": [
    "import numpy as np \n",
    "from SGTPy import component, mixture, saftvrmie"
   ]
  },
  {
   "cell_type": "code",
   "execution_count": 2,
   "metadata": {},
   "outputs": [],
   "source": [
    "ethanol = component('ethanol2C', ms = 1.7728, sigma = 3.5592 , eps = 224.50,\n",
    "                    lambda_r = 11.319, lambda_a = 6., eAB = 3018.05, rcAB = 0.3547,\n",
    "                    rdAB = 0.4, sites = [1,0,1], cii= 5.3141080872882285e-20)\n",
    "\n",
    "hexane = component('hexane', ms = 1.96720036, sigma = 4.54762477, eps = 377.60127994, \n",
    "                   lambda_r = 18.41193194, cii = 3.581510586936205e-19)\n",
    "\n",
    "mix = mixture(hexane, ethanol)\n",
    "\n",
    "# kij fitted to experimental data\n",
    "kij = 0.011818492037463553\n",
    "Kij = np.array([[0, kij], [kij, 0]])\n",
    "mix.kij_saft(Kij)\n",
    "eos = saftvrmie(mix)"
   ]
  },
  {
   "cell_type": "markdown",
   "metadata": {},
   "source": [
    "The ``eos.nc`` attribute indicates the number of components in the mixture"
   ]
  },
  {
   "cell_type": "code",
   "execution_count": 3,
   "metadata": {},
   "outputs": [
    {
     "data": {
      "text/plain": [
       "2"
      ]
     },
     "execution_count": 3,
     "metadata": {},
     "output_type": "execute_result"
    }
   ],
   "source": [
    "eos.nc"
   ]
  },
  {
   "cell_type": "markdown",
   "metadata": {},
   "source": [
    "The ``eos.secondordersgt`` attribute indicates whether the EoS includes the derivatives of the chemical potential\n",
    "respect to the density vector through the ``eos.dmuad_aux`` method."
   ]
  },
  {
   "cell_type": "code",
   "execution_count": 4,
   "metadata": {},
   "outputs": [
    {
     "data": {
      "text/plain": [
       "True"
      ]
     },
     "execution_count": 4,
     "metadata": {},
     "output_type": "execute_result"
    }
   ],
   "source": [
    "eos.secondordersgt"
   ]
  },
  {
   "cell_type": "code",
   "execution_count": 5,
   "metadata": {},
   "outputs": [],
   "source": [
    "T = 320. #K\n",
    "P = 1e5 # Pa\n",
    "x = np.array([0.4, 0.6])\n",
    "\n",
    "rho = 10996.38419604313 # mol/m3\n",
    "rhoi = x*rho\n",
    "RT = T*8.314"
   ]
  },
  {
   "cell_type": "markdown",
   "metadata": {},
   "source": [
    "The ``eos.temperature_aux`` method computes all the temperature dependent parameters."
   ]
  },
  {
   "cell_type": "code",
   "execution_count": 6,
   "metadata": {},
   "outputs": [],
   "source": [
    "temp_aux = eos.temperature_aux(T)"
   ]
  },
  {
   "cell_type": "markdown",
   "metadata": {},
   "source": [
    "The ``eos.logfugef_aux`` method computes the effective fugacity coefficients, volume root and non-bonded sites fractions.\n",
    "\n",
    "Used in SGTPy for phase equilibria computation."
   ]
  },
  {
   "cell_type": "code",
   "execution_count": 7,
   "metadata": {},
   "outputs": [
    {
     "data": {
      "text/plain": [
       "(array([ 0.07197118, -1.06735572]),\n",
       " 9.093898341236875e-05,\n",
       " array([0.06372576, 0.25243962]))"
      ]
     },
     "execution_count": 7,
     "metadata": {},
     "output_type": "execute_result"
    }
   ],
   "source": [
    "eos.logfugef_aux(x, temp_aux, P, 'L')"
   ]
  },
  {
   "cell_type": "markdown",
   "metadata": {},
   "source": [
    "The ``eos.muad_aux`` method computes the chemical potential and non-bonded sites fractions.\n",
    "\n",
    "Used in SGTPy for density profiles calculations."
   ]
  },
  {
   "cell_type": "code",
   "execution_count": 8,
   "metadata": {},
   "outputs": [
    {
     "data": {
      "text/plain": [
       "(array([-0.35114761, -1.0850094 ]), array([0.06372576, 0.25243962]))"
      ]
     },
     "execution_count": 8,
     "metadata": {},
     "output_type": "execute_result"
    }
   ],
   "source": [
    "eos.muad_aux(rhoi, temp_aux)"
   ]
  },
  {
   "cell_type": "markdown",
   "metadata": {},
   "source": [
    "The ``eos.dmuad_aux`` method computes the chemical potential, it derivatives respect to the density vector and non-bonded sites fractions.\n",
    "\n",
    "Used in SGTPy for density profiles calculations in the BVP problem (i.e. beta !=0)"
   ]
  },
  {
   "cell_type": "code",
   "execution_count": 9,
   "metadata": {},
   "outputs": [
    {
     "data": {
      "text/plain": [
       "(array([-0.35114761, -1.0850094 ]),\n",
       " array([[0.00380566, 0.00166061],\n",
       "        [0.00166061, 0.00073812]]),\n",
       " array([0.06372576, 0.25243962]))"
      ]
     },
     "execution_count": 9,
     "metadata": {},
     "output_type": "execute_result"
    }
   ],
   "source": [
    "eos.dmuad_aux(rhoi, temp_aux)"
   ]
  },
  {
   "cell_type": "markdown",
   "metadata": {},
   "source": [
    "The ``eos.a0ad_aux`` method computes the Helmholtz density energy and non-bonded sites fractions.\n",
    "\n",
    "Used to compute the interfacial tension in SGT."
   ]
  },
  {
   "cell_type": "code",
   "execution_count": 10,
   "metadata": {},
   "outputs": [
    {
     "data": {
      "text/plain": [
       "(-8740.834882529642, array([0.06372576, 0.25243962]))"
      ]
     },
     "execution_count": 10,
     "metadata": {},
     "output_type": "execute_result"
    }
   ],
   "source": [
    "eos.a0ad_aux(rhoi, temp_aux)"
   ]
  },
  {
   "cell_type": "markdown",
   "metadata": {},
   "source": [
    "The ``eos.dOm_aux`` method computes the grand thermodynamic potential diffenrece and non-bonded sites fractions.\n",
    "\n",
    "Used to compute the interfacial tension in SGT."
   ]
  },
  {
   "cell_type": "code",
   "execution_count": 11,
   "metadata": {},
   "outputs": [
    {
     "data": {
      "text/plain": [
       "(0.002062643585048818, array([0.06372576, 0.25243962]))"
      ]
     },
     "execution_count": 11,
     "metadata": {},
     "output_type": "execute_result"
    }
   ],
   "source": [
    "mu0 = np.array([-0.35114761, -1.0850094 ])\n",
    "eos.dOm_aux(rhoi, temp_aux, mu0, P/RT)"
   ]
  },
  {
   "cell_type": "markdown",
   "metadata": {},
   "source": [
    "The ``eos.sgt_adim`` method computes the factor needed to make SGT system of equations consistent. \n",
    "It returns the temperature factor, pressure factor, density factor, interfacial tension factor and interfacial length factor."
   ]
  },
  {
   "cell_type": "code",
   "execution_count": 12,
   "metadata": {},
   "outputs": [
    {
     "data": {
      "text/plain": [
       "(1.0, 0.0003758510865637856, 1.0, 3.086918863047295e-05, 8.619041569518275)"
      ]
     },
     "execution_count": 12,
     "metadata": {},
     "output_type": "execute_result"
    }
   ],
   "source": [
    "eos.sgt_adim(T)"
   ]
  },
  {
   "cell_type": "markdown",
   "metadata": {},
   "source": [
    "The ``eos.ci`` method computes influence parameter matrix at given temperature."
   ]
  },
  {
   "cell_type": "code",
   "execution_count": 13,
   "metadata": {},
   "outputs": [
    {
     "data": {
      "text/plain": [
       "array([[3.58151059e-19, 1.37958452e-19],\n",
       "       [1.37958452e-19, 5.31410809e-20]])"
      ]
     },
     "execution_count": 13,
     "metadata": {},
     "output_type": "execute_result"
    }
   ],
   "source": [
    "eos.ci(T)"
   ]
  },
  {
   "cell_type": "code",
   "execution_count": null,
   "metadata": {},
   "outputs": [],
   "source": []
  }
 ],
 "metadata": {
  "kernelspec": {
   "display_name": "Python 3",
   "language": "python",
   "name": "python3"
  },
  "language_info": {
   "codemirror_mode": {
    "name": "ipython",
    "version": 3
   },
   "file_extension": ".py",
   "mimetype": "text/x-python",
   "name": "python",
   "nbconvert_exporter": "python",
   "pygments_lexer": "ipython3",
   "version": "3.8.3"
  }
 },
 "nbformat": 4,
 "nbformat_minor": 4
}
