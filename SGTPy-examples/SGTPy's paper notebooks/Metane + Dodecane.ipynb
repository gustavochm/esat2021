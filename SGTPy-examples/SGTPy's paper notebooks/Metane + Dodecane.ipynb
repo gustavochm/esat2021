{
 "cells": [
  {
   "cell_type": "markdown",
   "metadata": {},
   "source": [
    "# Density Profile and IFT of mixture of Metane + Dodecane\n",
    "\n",
    "First it's needed to import the necessary modules"
   ]
  },
  {
   "cell_type": "code",
   "execution_count": 1,
   "metadata": {},
   "outputs": [],
   "source": [
    "import numpy as np\n",
    "import matplotlib.pyplot as plt\n",
    "from SGTPy import component, mixture, saftvrmie\n",
    "from SGTPy.equilibrium import flash\n",
    "from SGTPy.sgt import sgt_mix_beta0"
   ]
  },
  {
   "cell_type": "markdown",
   "metadata": {},
   "source": [
    "The binary mixture is created and then the interactios parameters is set. For this mixture the influence parameters are correlated with the method ```eos.cii_correlation```, to use this correlated parameters the ```overwrite``` option should be set to ```True```."
   ]
  },
  {
   "cell_type": "code",
   "execution_count": 2,
   "metadata": {},
   "outputs": [
    {
     "data": {
      "text/plain": [
       "array([1.92075094e-20, 1.27211926e-18])"
      ]
     },
     "execution_count": 2,
     "metadata": {},
     "output_type": "execute_result"
    }
   ],
   "source": [
    "methane = component('methane', ms = 1.0, sigma = 3.752 , eps = 170.75,\n",
    "                    lambda_r = 16.39, lambda_a = 6.)\n",
    "dodecane = component('dodecane', ms = 4.0, sigma = 4.351 , eps = 378.56,\n",
    "                    lambda_r = 18.41, lambda_a = 6.)\n",
    "# interaction parameter optimized from phase equilibria data\n",
    "kij = -0.02199102576365056\n",
    "Kij = np.array([[0, kij], [kij, 0]])\n",
    "mix = mixture(methane, dodecane)\n",
    "mix.kij_saft(Kij)\n",
    "eos = saftvrmie(mix)\n",
    "eos.cii_correlation(overwrite = True)"
   ]
  },
  {
   "cell_type": "markdown",
   "metadata": {},
   "source": [
    "The VLE is computed with the ```flash``` function. Further information about this function can be found running ```flash?```."
   ]
  },
  {
   "cell_type": "code",
   "execution_count": 3,
   "metadata": {},
   "outputs": [
    {
     "data": {
      "text/plain": [
       "(array([0.32464601, 0.67535399]),\n",
       " array([9.99288898e-01, 7.11101623e-04]),\n",
       " 0.5563743405234387)"
      ]
     },
     "execution_count": 3,
     "metadata": {},
     "output_type": "execute_result"
    }
   ],
   "source": [
    "# Computing vapor liquid equilibrium\n",
    "\n",
    "T = 71 + 273.15 # K\n",
    "P = 10e6 # Pa\n",
    "# global composition\n",
    "z = np.array([0.7, 0.3])\n",
    "\n",
    "#initial guess for phases\n",
    "x0 = np.array([0.3, 0.7])\n",
    "y0 = np.array([0.999, 0.001])\n",
    "x, y, psi = flash(x0, y0, 'LV', z, T, P , eos, full_output = False)\n",
    "# liquid composition, vapor composition, vapor phase fraction\n",
    "x, y, psi"
   ]
  },
  {
   "cell_type": "markdown",
   "metadata": {},
   "source": [
    "The computed VLE can be used with SGT and as $\\beta_{ij}=0$ is used the function ```sgt_mix_beta0``` should be used. For this mixture the reference method using dodecance as reference component is suitable to compute the density profiles."
   ]
  },
  {
   "cell_type": "code",
   "execution_count": 4,
   "metadata": {},
   "outputs": [],
   "source": [
    "# computing density vectors in mol/m3\n",
    "rhol = x*eos.density(x, T, P, 'L')\n",
    "rhov = y*eos.density(y, T, P, 'V')"
   ]
  },
  {
   "cell_type": "code",
   "execution_count": 5,
   "metadata": {},
   "outputs": [
    {
     "name": "stderr",
     "output_type": "stream",
     "text": [
      "C:\\Users\\boltzmann\\miniconda3\\lib\\site-packages\\sgtpy-0.0.1-py3.7-win-amd64.egg\\SGTPy\\sgt\\reference_component.py:73: RuntimeWarning: invalid value encountered in sqrt\n",
      "  intten = np.nan_to_num(np.sqrt(suma*(2*dom)))\n",
      "C:\\Users\\boltzmann\\miniconda3\\lib\\site-packages\\sgtpy-0.0.1-py3.7-win-amd64.egg\\SGTPy\\sgt\\reference_component.py:80: RuntimeWarning: invalid value encountered in sqrt\n",
      "  intz = (np.sqrt(suma/(2*dom)))\n"
     ]
    }
   ],
   "source": [
    "#solving SGT using reference component s = 1 (dodecane)\n",
    "sol = sgt_mix_beta0(rhov, rhol, T, P, eos, s = 1, n = 100, method = 'reference', full_output = True)"
   ]
  },
  {
   "cell_type": "markdown",
   "metadata": {},
   "source": [
    "The density profile can also be solved using Liang's path function."
   ]
  },
  {
   "cell_type": "code",
   "execution_count": 6,
   "metadata": {},
   "outputs": [],
   "source": [
    "#solving SGT using Liang path function\n",
    "sol2 = sgt_mix_beta0(rhov, rhol, T, P, eos, n = 500, method = 'liang', full_output = True)"
   ]
  },
  {
   "cell_type": "code",
   "execution_count": 7,
   "metadata": {},
   "outputs": [
    {
     "name": "stdout",
     "output_type": "stream",
     "text": [
      "IFT calculated with reference component method:  11.66816901945621 mN/m\n",
      "IFT calculated with reference Liang path function:  11.668126500346894 mN/m\n"
     ]
    }
   ],
   "source": [
    "print('IFT calculated with reference component method: ', sol.tension,  'mN/m')\n",
    "print('IFT calculated with reference Liang path function: ', sol2.tension, 'mN/m')"
   ]
  },
  {
   "cell_type": "code",
   "execution_count": 8,
   "metadata": {},
   "outputs": [
    {
     "data": {
      "text/plain": [
       "Text(0, 0.5, '$\\\\rho_2$ / kmol m$^{-3}$')"
      ]
     },
     "execution_count": 8,
     "metadata": {},
     "output_type": "execute_result"
    },
    {
     "data": {
      "image/png": "[encoded data removed]",
      "text/plain": [
       "<Figure size 432x288 with 1 Axes>"
      ]
     },
     "metadata": {
      "needs_background": "light"
     },
     "output_type": "display_data"
    }
   ],
   "source": [
    "rho = sol.rho / 1000 #density path in kmol/m3\n",
    "plt.plot(rho[0], rho[1], color = 'k')\n",
    "plt.plot([rhov[0]/1000, rhol[0]/1000], [rhov[1]/1000, rhol[1]/1000] , 's', color = 'k')\n",
    "plt.tick_params(direction = 'in')\n",
    "plt.xlabel(r'$\\rho_1$ / kmol m$^{-3}$')\n",
    "plt.ylabel(r'$\\rho_2$ / kmol m$^{-3}$')"
   ]
  },
  {
   "cell_type": "code",
   "execution_count": null,
   "metadata": {},
   "outputs": [],
   "source": []
  }
 ],
 "metadata": {
  "kernelspec": {
   "display_name": "Python 3",
   "language": "python",
   "name": "python3"
  },
  "language_info": {
   "codemirror_mode": {
    "name": "ipython",
    "version": 3
   },
   "file_extension": ".py",
   "mimetype": "text/x-python",
   "name": "python",
   "nbconvert_exporter": "python",
   "pygments_lexer": "ipython3",
   "version": "3.8.3"
  }
 },
 "nbformat": 4,
 "nbformat_minor": 4
}
