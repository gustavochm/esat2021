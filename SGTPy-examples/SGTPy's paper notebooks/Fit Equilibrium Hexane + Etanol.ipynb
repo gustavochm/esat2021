{
 "cells": [
  {
   "cell_type": "markdown",
   "metadata": {},
   "source": [
    "# Fit $k_{ij}$ interactions parameter of Hexane and Ethanol\n",
    "\n",
    "This notebook has te purpose of showing how to optimize the $k_{ij}$ for a mixture in SGTPy.\n",
    "\n",
    "First it's needed to import the necessary modules"
   ]
  },
  {
   "cell_type": "code",
   "execution_count": 1,
   "metadata": {},
   "outputs": [],
   "source": [
    "import numpy as np\n",
    "\n",
    "from SGTPy import component, mixture, saftvrmie\n",
    "from SGTPy.fit import fit_kij"
   ]
  },
  {
   "cell_type": "markdown",
   "metadata": {},
   "source": [
    "Now that the functions are available it is necessary to create the mixture."
   ]
  },
  {
   "cell_type": "code",
   "execution_count": 2,
   "metadata": {},
   "outputs": [],
   "source": [
    "ethanol = component('ethanol2C', ms = 1.7728, sigma = 3.5592 , eps = 224.50,\n",
    "                    lambda_r = 11.319, lambda_a = 6., eAB = 3018.05, rcAB = 0.3547,\n",
    "                    rdAB = 0.4, sites = [1,0,1], cii= 5.3141080872882285e-20)\n",
    "\n",
    "hexane = component('hexane', ms = 1.96720036, sigma = 4.54762477, eps = 377.60127994, \n",
    "                   lambda_r = 18.41193194, cii = 3.581510586936205e-19)\n",
    "\n",
    "mix = mixture(hexane, ethanol)"
   ]
  },
  {
   "cell_type": "markdown",
   "metadata": {},
   "source": [
    "Now the experimental equilibria data is read and a tuple is created. It includes the experimental liquid composition, vapor composition, equilibrium temperature and pressure. This is done with ```datavle = (Xexp, Yexp, Texp, Pexp)```\n"
   ]
  },
  {
   "cell_type": "code",
   "execution_count": 3,
   "metadata": {},
   "outputs": [],
   "source": [
    "# Experimental data obtained from Sinor, Weber, J. Chem. Eng. Data, vol. 5, no. 3, pp. 243–247, 1960.\n",
    "\n",
    "# Experimental temperature saturation in K\n",
    "Texp = np.array([351.45, 349.15, 346.35, 340.55, 339.05, 334.95, 332.55, 331.85,\n",
    "       331.5 , 331.25, 331.15, 331.4 , 331.6 , 332.3 , 333.35, 336.65,\n",
    "       339.85, 341.85])\n",
    "\n",
    "# Experimental pressure in Pa\n",
    "Pexp = np.array([101330., 101330., 101330., 101330., 101330., 101330., 101330.,\n",
    "       101330., 101330., 101330., 101330., 101330., 101330., 101330.,\n",
    "       101330., 101330., 101330., 101330.])\n",
    "\n",
    "# Experimental liquid composition\n",
    "Xexp = np.array([[0.   , 0.01 , 0.02 , 0.06 , 0.08 , 0.152, 0.245, 0.333, 0.452,\n",
    "        0.588, 0.67 , 0.725, 0.765, 0.898, 0.955, 0.99 , 0.994, 1.   ],\n",
    "       [1.   , 0.99 , 0.98 , 0.94 , 0.92 , 0.848, 0.755, 0.667, 0.548,\n",
    "        0.412, 0.33 , 0.275, 0.235, 0.102, 0.045, 0.01 , 0.006, 0.   ]])\n",
    "\n",
    "# Experimental vapor composition\n",
    "Yexp = np.array([[0.   , 0.095, 0.193, 0.365, 0.42 , 0.532, 0.605, 0.63 , 0.64 ,\n",
    "        0.65 , 0.66 , 0.67 , 0.675, 0.71 , 0.745, 0.84 , 0.935, 1.   ],\n",
    "       [1.   , 0.905, 0.807, 0.635, 0.58 , 0.468, 0.395, 0.37 , 0.36 ,\n",
    "        0.35 , 0.34 , 0.33 , 0.325, 0.29 , 0.255, 0.16 , 0.065, 0.   ]])\n",
    "\n",
    "datavle = (Xexp, Yexp, Texp, Pexp)"
   ]
  },
  {
   "cell_type": "markdown",
   "metadata": {},
   "source": [
    "The function ```fit_kij``` optimize the $k_{ij}$. The function requires bounds for the parameter, as well as the mixture object and the equilibria data."
   ]
  },
  {
   "cell_type": "code",
   "execution_count": 5,
   "metadata": {},
   "outputs": [
    {
     "data": {
      "text/plain": [
       "     fun: 0.000478465625131494\n",
       "    nfev: 23\n",
       "     nit: 19\n",
       " success: True\n",
       "       x: 0.011818496388350879"
      ]
     },
     "execution_count": 5,
     "metadata": {},
     "output_type": "execute_result"
    }
   ],
   "source": [
    "# bounds fors kij\n",
    "kij_bounds = (-0.01, 0.01)\n",
    "fit_kij(kij_bounds, mix, datavle = datavle)"
   ]
  },
  {
   "cell_type": "markdown",
   "metadata": {},
   "source": [
    "For more information just run:\n",
    "```fit_kij?```"
   ]
  },
  {
   "cell_type": "code",
   "execution_count": null,
   "metadata": {},
   "outputs": [],
   "source": []
  }
 ],
 "metadata": {
  "kernelspec": {
   "display_name": "Python 3",
   "language": "python",
   "name": "python3"
  },
  "language_info": {
   "codemirror_mode": {
    "name": "ipython",
    "version": 3
   },
   "file_extension": ".py",
   "mimetype": "text/x-python",
   "name": "python",
   "nbconvert_exporter": "python",
   "pygments_lexer": "ipython3",
   "version": "3.8.3"
  }
 },
 "nbformat": 4,
 "nbformat_minor": 4
}
