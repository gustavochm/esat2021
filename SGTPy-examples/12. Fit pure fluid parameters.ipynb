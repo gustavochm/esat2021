{
 "cells": [
  {
   "cell_type": "markdown",
   "metadata": {},
   "source": [
    "# Fitting Pure component data\n",
    "\n",
    "The purpose of this notebook is to show how to fit the molecular parameters of a fluid using SGTPy. First, it is necessary to import the necessary modules and functions, this includes SciPy's ``minimize`` function.\n",
    "\n",
    "This notebook will fit n-Hexane molecular parameters."
   ]
  },
  {
   "cell_type": "code",
   "execution_count": 1,
   "metadata": {},
   "outputs": [],
   "source": [
    "import numpy as np\n",
    "from scipy.optimize import minimize\n",
    "from SGTPy import component, saftvrmie\n",
    "import matplotlib.pyplot as plt"
   ]
  },
  {
   "cell_type": "markdown",
   "metadata": {},
   "source": [
    "To fit molecular parameters for SAFT models, at least the saturation pressure and liquid density of the fluid is necessary. \n",
    "When available, it is recommended to include thermal derived properties as vaporization enthalpies and speed of sound, these can be obtained from several databases such as NIST WebBook, TDE, Detherm, DIPPR 801."
   ]
  },
  {
   "cell_type": "code",
   "execution_count": 2,
   "metadata": {},
   "outputs": [],
   "source": [
    "# Experimental data for hexane obtained from NIST WebBook\n",
    "Tsat = np.array([290., 300., 310., 320., 330., 340., 350., 360.]) # K\n",
    "Psat = np.array([ 14016.,  21865.,  32975.,  48251.,  68721.,  95527., 129920., 173260.]) # Pa\n",
    "rhol = np.array([7683.6, 7577.4, 7469.6, 7360.1, 7248.7, 7135. , 7018.7, 6899.5]) # mol/m3\n",
    "rhov = np.array([ 5.8845,  8.9152, 13.087, 18.683, 26.023, 35.466, 47.412, 62.314]) #mol/m3\n",
    "#speed of sound\n",
    "speed_liq = np.array([1090.6, 1047.6, 1005.1,  963.05,  921.37,  880.,  838.85, 797.86])  # m/s\n",
    "speed_vap = np.array([170.71, 172.79, 174.62, 176.17, 177.42, 178.33, 178.87, 179.01])  # m/s\n",
    "# enthalpies\n",
    "Hl = np.array([-10427., -8496.9, -6530.1, -4525., -2480., -393.68, 1735.3, 3908.5]) # J/mol\n",
    "Hv = np.array([21525., 22893., 24285., 25699., 27135., 28589., 30062., 31549.]) #J/mol\n",
    "Hvap = Hv - Hl\n",
    "# interfacial tension\n",
    "iftexp = np.array([18.842, 17.746, 16.665, 15.6  , 14.549, 13.516, 12.499, 11.5  ])  # mN/m "
   ]
  },
  {
   "cell_type": "markdown",
   "metadata": {},
   "source": [
    "Depending on the available experimental data you can write your own objective function. Using this approach you can set the molecular parameters to be fitted and the ones that you want to fix (for example ``lambda_a=6`` or set ``ms`` as a whole number).\n",
    "\n",
    "You can use the ``saftvrmie`` method to compute the EoS predicted value and then measure its error against the experimental data. Some useful method to be used are:\n",
    "\n",
    "- ``eos.psat``: computes saturation pressure and densities at given temperature\n",
    "- ``eos.density``: computes density at given temperature, pressure and aggregation state (L or V).\n",
    "- ``eos.EnthalpyR``: computes residual enthalpy at given temperature, pressure and aggregation state (L or V).\n",
    "- ``eos.speed_sound``:computes speed of sound at given temperature, pressure and aggregation state (L or V).\n",
    "\n",
    "**note**: if you want to use the speed of sounds in your objective function you need to provide the molar weight of the fluid and the ideal gas heat capacities. These can be computed from correlations such as the ones provided by DIPPR 801.\n",
    "\n",
    "Examples of objectives functions are shown below:"
   ]
  },
  {
   "cell_type": "code",
   "execution_count": 3,
   "metadata": {},
   "outputs": [],
   "source": [
    "# objective function to optimize molecular parameters\n",
    "def fobj(inc):\n",
    "    ms, sigma, eps, lambda_r = inc\n",
    "    pure = component(ms = ms, sigma = sigma , eps = eps, lambda_r = lambda_r , lambda_a = 6., Mw = 86.18)\n",
    "    eos = saftvrmie(pure)\n",
    "    \n",
    "    #Pure component pressure and liquid density\n",
    "    P = np.zeros_like(Psat) \n",
    "    vl = np.zeros_like(rhol)\n",
    "    vv = np.zeros_like(rhov)\n",
    "    n= len(Psat)\n",
    "    for i in range(n):\n",
    "        P[i], vl[i], vv[i] = eos.psat(Tsat[i], Psat[i])\n",
    "    \n",
    "    rhosaftl = 1/vl\n",
    "    rhosaftv = 1/vv\n",
    "    \n",
    "    # error for saturation pressure and densities\n",
    "    error = np.mean(np.abs(P/Psat - 1))\n",
    "    error += np.mean(np.abs(rhosaftl/rhol - 1))\n",
    "    error += 0.1*np.mean(np.abs(rhosaftv/rhov - 1))\n",
    "    \n",
    "    return error"
   ]
  },
  {
   "cell_type": "code",
   "execution_count": 4,
   "metadata": {},
   "outputs": [],
   "source": [
    "# objective function to optimize molecular parameters\n",
    "def fobj2(inc):\n",
    "    ms, sigma, eps, lambda_r = inc\n",
    "    pure = component(ms = ms, sigma = sigma , eps = eps, lambda_r = lambda_r , lambda_a = 6., Mw = 86.18)\n",
    "    eos = saftvrmie(pure)\n",
    "    #Pure component pressure and liquid density\n",
    "    P = np.zeros_like(Psat) \n",
    "    vl = np.zeros_like(rhol)\n",
    "    vv = np.zeros_like(rhov)\n",
    "    \n",
    "    Hrl = np.zeros_like(Hvap)\n",
    "    Hrv = np.zeros_like(Hvap)\n",
    "    \n",
    "    n= len(Psat)\n",
    "    for i in range(n):\n",
    "        P[i], vl[i], vv[i] = eos.psat(Tsat[i], Psat[i])\n",
    "        Hrl[i] = eos.EnthalpyR(Tsat[i], P[i], 'L', v0=vl[i])\n",
    "        Hrv[i] = eos.EnthalpyR(Tsat[i], P[i], 'V', v0=vv[i])\n",
    "    \n",
    "    rhosaftl = 1/vl\n",
    "    rhosaftv = 1/vv\n",
    "    Hvap_saft = Hrv - Hrl \n",
    "    # error for saturation pressure, liquid density and vaporization enthalpy\n",
    "    error = np.mean(np.abs(P/Psat - 1))\n",
    "    error += np.mean(np.abs(rhosaftl/rhol - 1))\n",
    "    error += 0.2*np.mean(np.abs(Hvap_saft/Hvap - 1))\n",
    "    \n",
    "    return error"
   ]
  },
  {
   "cell_type": "code",
   "execution_count": 5,
   "metadata": {},
   "outputs": [],
   "source": [
    "# Ideal gas heat capacities from DIPPR 801\n",
    "R = 8.314\n",
    "\n",
    "k1=104400\n",
    "k2=352300\n",
    "k3=1694.6\n",
    "k4=236900\n",
    "k5=761.6\n",
    "\n",
    "CpId = k1 + k2 * ((k3/Tsat) /np.sinh(k3/Tsat))**2\n",
    "CpId += k4 * ((k5/Tsat) /np.cosh(k5/Tsat))**2\n",
    "CpId /= 1000.  # J/mol K\n",
    "\n",
    "CvId = CpId - R  # J/ mol K\n",
    "\n",
    "\n",
    "# objective function to optimize molecular parameters\n",
    "def fobj3(inc):\n",
    "    ms, sigma, eps, lambda_r = inc\n",
    "    pure = component(ms = ms, sigma = sigma , eps = eps, lambda_r = lambda_r , lambda_a = 6., Mw = 86.18)\n",
    "    eos = saftvrmie(pure)\n",
    "    #Pure component pressure and liquid density\n",
    "    P = np.zeros_like(Psat) \n",
    "    vl = np.zeros_like(rhol)\n",
    "    vv = np.zeros_like(rhov)\n",
    "    \n",
    "    ul = np.zeros_like(speed_liq)\n",
    "    uv = np.zeros_like(speed_vap)\n",
    "    \n",
    "    n= len(Psat)\n",
    "    for i in range(n):\n",
    "        P[i], vl[i], vv[i] = eos.psat(Tsat[i], Psat[i])\n",
    "        ul[i] = eos.speed_sound(Tsat[i], P[i], 'L', v0=vl[i], CvId=CvId[i], CpId=CpId[i])\n",
    "        uv[i] = eos.speed_sound(Tsat[i], P[i], 'V', v0=vv[i], CvId=CvId[i], CpId=CpId[i])\n",
    "    \n",
    "    rhosaftl = 1/vl\n",
    "    rhosaftv = 1/vv\n",
    "    \n",
    "    # error for saturation pressure, liquid density and speed on sounds\n",
    "    error = np.mean(np.abs(P/Psat - 1))\n",
    "    error += np.mean(np.abs(rhosaftl/rhol - 1))\n",
    "    error += 0.2*np.mean(np.abs(ul/speed_liq - 1))\n",
    "    error += 0.2*np.mean(np.abs(uv/speed_vap - 1))\n",
    "    \n",
    "    return error"
   ]
  },
  {
   "cell_type": "markdown",
   "metadata": {},
   "source": [
    "Once you have defined your objective function you can minimize it with SciPy's ``minimize`` function. You need to provide initial guesses for the molecular parameters."
   ]
  },
  {
   "cell_type": "code",
   "execution_count": 6,
   "metadata": {},
   "outputs": [],
   "source": [
    "# initial guess for ms, sigma, eps and lambda_r\n",
    "inc0 = np.array([2.0, 4.52313581 , 378.98125026,  19.00195008])\n",
    "# more information about available optimization methods in SciPy's documentation\n",
    "method = 'Nelder-Mead'\n",
    "# uncomment to minimize (might take a while)\n",
    "# minimize(fobj, inc0, method = method)"
   ]
  },
  {
   "cell_type": "code",
   "execution_count": 7,
   "metadata": {},
   "outputs": [],
   "source": [
    "# initial guess for ms, sigma, eps and lambda_r\n",
    "inc0 = np.array([  2.24801701,   4.30544794, 322.78550964,  15.11252787])\n",
    "# more information about available optimization methods in SciPy's documentation \n",
    "method = 'Nelder-Mead'\n",
    "# uncomment to minimize (might take a while)\n",
    "# minimize(fobj2, inc0, method = method)"
   ]
  },
  {
   "cell_type": "code",
   "execution_count": 8,
   "metadata": {},
   "outputs": [],
   "source": [
    "# initial guess for ms, sigma, eps and lambda_r\n",
    "inc0 = np.array([  2.24922708,   4.30485061, 323.02126482,  15.14312848])\n",
    "# more information about available optimization methods in SciPy's documentation \n",
    "method = 'Nelder-Mead'\n",
    "# uncomment to minimize (might take a while)\n",
    "# minimize(fobj3, inc0, method = method)"
   ]
  },
  {
   "cell_type": "markdown",
   "metadata": {},
   "source": [
    "Now that the molecular parameters are available, you are ready to use the fluid with SAFT-VR-Mie EoS. In the following code block the saturation pressure, densities, vaporization enthalpy and speeds of sound are computed. Then the results can be compared to the experimental data."
   ]
  },
  {
   "cell_type": "code",
   "execution_count": 9,
   "metadata": {},
   "outputs": [],
   "source": [
    "# parameters optimized from fobj3\n",
    "ms, sigma, eps, lambda_r = np.array([  2.24922708,   4.30485061, 323.02126482,  15.14312848])\n",
    "pure = component(ms = ms, sigma = sigma , eps = eps, lambda_r = lambda_r , lambda_a = 6., Mw = 86.18)\n",
    "eos = saftvrmie(pure)\n",
    "\n",
    "#Pure component pressure and liquid density\n",
    "P = np.zeros_like(Psat) \n",
    "vl = np.zeros_like(rhol)\n",
    "vv = np.zeros_like(rhov)\n",
    "\n",
    "ul = np.zeros_like(speed_liq)\n",
    "uv = np.zeros_like(speed_vap)\n",
    "\n",
    "Hls = np.zeros_like(Hvap)\n",
    "Hvs = np.zeros_like(Hvap)\n",
    "\n",
    "n= len(Psat)\n",
    "for i in range(n):\n",
    "    P[i], vl[i], vv[i] = eos.psat(Tsat[i], Psat[i])\n",
    "    ul[i] = eos.speed_sound(Tsat[i], P[i], 'L', v0=vl[i], CvId=CvId[i], CpId=CpId[i])\n",
    "    uv[i] = eos.speed_sound(Tsat[i], P[i], 'V', v0=vv[i], CvId=CvId[i], CpId=CpId[i])\n",
    "    Hls[i] = eos.EnthalpyR(Tsat[i], P[i], 'L', v0=vl[i])\n",
    "    Hvs[i] = eos.EnthalpyR(Tsat[i], P[i], 'V', v0=vv[i])\n",
    "\n",
    "rhosaftl = 1/vl\n",
    "rhosaftv = 1/vv\n",
    "\n",
    "dHv = Hv - Hl"
   ]
  },
  {
   "cell_type": "code",
   "execution_count": 10,
   "metadata": {},
   "outputs": [
    {
     "data": {
      "text/plain": [
       "Text(0.5, 0, 'u / m s$^{-1}$')"
      ]
     },
     "execution_count": 10,
     "metadata": {},
     "output_type": "execute_result"
    },
    {
     "data": {
      "image/png": "[encoded data removed]",
      "text/plain": [
       "<Figure size 576x576 with 4 Axes>"
      ]
     },
     "metadata": {
      "needs_background": "light"
     },
     "output_type": "display_data"
    }
   ],
   "source": [
    "fig = plt.figure(figsize = (8, 8))\n",
    "fig.subplots_adjust(wspace=0.3, hspace=0.3)\n",
    "\n",
    "ax = fig.add_subplot(221)\n",
    "ax.plot(Tsat, P/1e6, color='k')\n",
    "ax.plot(Tsat, Psat/1e6, 's', color='k')\n",
    "ax.set_xlabel('T / K')\n",
    "ax.set_ylabel('P / MPa')\n",
    "\n",
    "ax2 = fig.add_subplot(222)\n",
    "ax2.plot(rhosaftl, Tsat, color='k')\n",
    "ax2.plot(rhosaftv, Tsat, color='k')\n",
    "ax2.plot(rhol, Tsat, 's', color='k')\n",
    "ax2.plot(rhov, Tsat, 's', color='k')\n",
    "ax2.set_ylabel('T / K')\n",
    "ax2.set_xlabel(r'$\\rho$ / mol m$^{-3}$')\n",
    "\n",
    "ax3 = fig.add_subplot(223)\n",
    "ax3.plot(Tsat, dHv/1000, color='k')\n",
    "ax3.plot(Tsat, Hvap/1000, 's', color='k')\n",
    "ax3.set_xlabel('T / K')\n",
    "ax3.set_ylabel(r'$\\Delta$ H / J mol$^{-1}$')\n",
    "\n",
    "ax4 = fig.add_subplot(224)\n",
    "ax4.plot(ul, Tsat, color='k')\n",
    "ax4.plot(uv, Tsat, color='k')\n",
    "\n",
    "ax4.plot(speed_liq, Tsat, 's', color='k')\n",
    "ax4.plot(speed_vap, Tsat, 's', color='k')\n",
    "\n",
    "ax4.set_ylabel('T / K')\n",
    "ax4.set_xlabel(r'u / m s$^{-1}$')"
   ]
  },
  {
   "cell_type": "markdown",
   "metadata": {},
   "source": [
    "## Influence parameter for SGT\n",
    "\n",
    "If you want to use SGT you need to provide the influence parameter ``cii``, this parameter can be correlated from the molecular parameters for coarse-grained non-associating fluids or can be fitted from experimental interfacial tension data.\n",
    "\n",
    "To fit the influence parameter you can use the ``fit_cii`` function. This function requires the experimental interfacial tension data and the computed phase equilibria (Tsat, Psat, rhol, rhov)."
   ]
  },
  {
   "cell_type": "code",
   "execution_count": 11,
   "metadata": {},
   "outputs": [
    {
     "data": {
      "text/plain": [
       "3.586172417801607e-19"
      ]
     },
     "execution_count": 11,
     "metadata": {},
     "output_type": "execute_result"
    }
   ],
   "source": [
    "from SGTPy.fit import fit_cii\n",
    "\n",
    "fit_cii(iftexp, Tsat, P, rhosaftl, rhosaftv, eos)"
   ]
  },
  {
   "cell_type": "markdown",
   "metadata": {},
   "source": [
    "Now that the influence parameter has been fitted, you can use the ``eos`` object with the ``sgt_pure`` function to compute the IFT of the fluid. \n",
    "\n",
    "Then you can compare the results."
   ]
  },
  {
   "cell_type": "code",
   "execution_count": 12,
   "metadata": {},
   "outputs": [
    {
     "name": "stderr",
     "output_type": "stream",
     "text": [
      "C:\\Users\\Gusta\\anaconda3\\lib\\site-packages\\sgtpy-0.0.8-py3.8-win-amd64.egg\\SGTPy\\sgt\\sgtpure.py:64: RuntimeWarning: invalid value encountered in sqrt\n",
      "  tenint = np.nan_to_num(np.sqrt(2*dOm))\n"
     ]
    }
   ],
   "source": [
    "from SGTPy.sgt import sgt_pure\n",
    "pure = component(ms = ms, sigma = sigma , eps = eps, lambda_r = lambda_r , lambda_a = 6., Mw = 86.18,\n",
    "                 cii=3.5861724177599335e-19)\n",
    "eos = saftvrmie(pure)\n",
    "\n",
    "ift = np.zeros_like(iftexp)\n",
    "for i in range(n):\n",
    "    ift[i] = sgt_pure(rhosaftv[i], rhosaftl[i], Tsat[i], Psat[i], eos)"
   ]
  },
  {
   "cell_type": "code",
   "execution_count": 13,
   "metadata": {},
   "outputs": [
    {
     "data": {
      "text/plain": [
       "Text(0, 0.5, '$\\\\gamma$ / mN m$^{-1}$')"
      ]
     },
     "execution_count": 13,
     "metadata": {},
     "output_type": "execute_result"
    },
    {
     "data": {
      "image/png": "[encoded data removed]",
      "text/plain": [
       "<Figure size 360x360 with 1 Axes>"
      ]
     },
     "metadata": {
      "needs_background": "light"
     },
     "output_type": "display_data"
    }
   ],
   "source": [
    "fig = plt.figure(figsize=(5,5))\n",
    "ax = fig.add_subplot(111)\n",
    "ax.plot(Tsat, iftexp, 's', color='k')\n",
    "ax.plot(Tsat, ift, color='k')\n",
    "ax.set_xlabel('T / K')\n",
    "ax.set_ylabel(r'$\\gamma$ / mN m$^{-1}$')\n"
   ]
  },
  {
   "cell_type": "code",
   "execution_count": null,
   "metadata": {},
   "outputs": [],
   "source": []
  }
 ],
 "metadata": {
  "kernelspec": {
   "display_name": "Python 3",
   "language": "python",
   "name": "python3"
  },
  "language_info": {
   "codemirror_mode": {
    "name": "ipython",
    "version": 3
   },
   "file_extension": ".py",
   "mimetype": "text/x-python",
   "name": "python",
   "nbconvert_exporter": "python",
   "pygments_lexer": "ipython3",
   "version": "3.8.3"
  }
 },
 "nbformat": 4,
 "nbformat_minor": 4
}
