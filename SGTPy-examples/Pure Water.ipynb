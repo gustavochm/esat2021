{
 "cells": [
  {
   "cell_type": "markdown",
   "metadata": {},
   "source": [
    "# IFT of pure water\n",
    "\n",
    "First it's needed to import the necessary modules"
   ]
  },
  {
   "cell_type": "code",
   "execution_count": 1,
   "metadata": {},
   "outputs": [],
   "source": [
    "import numpy as np\n",
    "from SGTPy import component, saftvrmie\n",
    "from SGTPy.fit import fit_cii\n",
    "from SGTPy.sgt import sgt_pure\n",
    "import matplotlib.pyplot as plt"
   ]
  },
  {
   "cell_type": "markdown",
   "metadata": {},
   "source": [
    "First, the pure component is created with the ```component``` function. This created object is used with the ```saftvrmie``` function to create the model."
   ]
  },
  {
   "cell_type": "code",
   "execution_count": 2,
   "metadata": {},
   "outputs": [],
   "source": [
    "water = component('water', ms = 1.7311, sigma = 2.4539 , eps = 110.85,\n",
    "                    lambda_r = 8.308, lambda_a = 6.,  eAB = 1991.07, rcAB = 0.5624,\n",
    "                    rdAB = 0.4, sites = [0,2,2])\n",
    "\n",
    "\n",
    "eos = saftvrmie(water)"
   ]
  },
  {
   "cell_type": "markdown",
   "metadata": {},
   "source": [
    "The ```eos``` object includes all the necessary method for phase equilibria and interfacial properties computation.\n",
    "\n",
    "The saturation pressure can be computed using an initial guess for the pressure. In this case the phase volumes are initiated with Topliss's method."
   ]
  },
  {
   "cell_type": "code",
   "execution_count": 3,
   "metadata": {},
   "outputs": [
    {
     "data": {
      "text/plain": [
       "(41324.24127722169, 1.82443991915702e-05, 0.0693382700787586)"
      ]
     },
     "execution_count": 3,
     "metadata": {},
     "output_type": "execute_result"
    }
   ],
   "source": [
    "# eos.psat requires either initial guess for pressure or volume of the phases\n",
    "Psat, vl, vv = eos.psat(T = 350., P0 = 5e4)\n",
    "# Saturation pressure in Pa, liquid and vapor volume in m3/mol\n",
    "Psat, vl, vv "
   ]
  },
  {
   "cell_type": "markdown",
   "metadata": {},
   "source": [
    "Optionally, initial volumes of the phases can be provided."
   ]
  },
  {
   "cell_type": "code",
   "execution_count": 4,
   "metadata": {},
   "outputs": [
    {
     "data": {
      "text/plain": [
       "(41324.241277004316, 1.82443991915702e-05, 0.0693382700787586)"
      ]
     },
     "execution_count": 4,
     "metadata": {},
     "output_type": "execute_result"
    }
   ],
   "source": [
    "# eos.psat requires either initial guess for pressure or volume of the phases\n",
    "Psat, vl, vv = eos.psat(T = 350., v0 = [1.82443991915702e-05, 0.0693382700787586])\n",
    "Psat, vl, vv"
   ]
  },
  {
   "cell_type": "markdown",
   "metadata": {},
   "source": [
    "For IFT tension computation, the influence parameters is needed. This can be fitted to experimental data.  "
   ]
  },
  {
   "cell_type": "code",
   "execution_count": 5,
   "metadata": {},
   "outputs": [],
   "source": [
    "#Experimental Saturation Data of water obtained from NIST\n",
    "#Saturation Temperature in Kelvin\n",
    "Tsat = np.array([290., 300., 310., 320., 330., 340., 350., 360., 370., 380.]) \n",
    "\n",
    "#Saturation Pressure in Pa\n",
    "Psat = 10**5 * np.array([0.0192  , 0.035368, 0.062311, 0.10546 , 0.17213 , 0.27188 ,\n",
    "       0.41682 , 0.62194 , 0.90535 , 1.2885  ])\n",
    "\n",
    "#Saturated Liquid density in mol/m3\n",
    "rhol = 10**6 * np.array([0.05544 , 0.055315, 0.055139, 0.054919, 0.054662, 0.054371,\n",
    "       0.054049, 0.053698, 0.053321, 0.052918]) \n",
    "\n",
    "#Interfacial Tension in mN/m\n",
    "Tension = np.array([73.21 , 71.686, 70.106, 68.47 , 66.781, 65.04 , 63.248, 61.406,\n",
    "       59.517, 57.581])"
   ]
  },
  {
   "cell_type": "code",
   "execution_count": 6,
   "metadata": {},
   "outputs": [],
   "source": [
    "# Create empty arrays to store computed saturation pressure\n",
    "# Tsat, Psat, rhol, rhov are experimetal data obtained from NIST\n",
    "Psaft = np.zeros_like(Psat) \n",
    "vlsaft = np.zeros_like(rhol)\n",
    "vvsaft = np.zeros_like(rhol)\n",
    "n= len(Psat)\n",
    "for i in range(n):\n",
    "    # Saturation pressure in Pa, liquid and vapor volume in m3/mol\n",
    "    Psaft[i], vlsaft[i], vvsaft[i] = eos.psat(T = Tsat[i], P0 = Psat[i])\n",
    "rhosaftl = 1/vlsaft\n",
    "rhosaftv = 1/vvsaft"
   ]
  },
  {
   "cell_type": "code",
   "execution_count": 7,
   "metadata": {},
   "outputs": [
    {
     "data": {
      "text/plain": [
       "1.5371939422641703e-20"
      ]
     },
     "execution_count": 7,
     "metadata": {},
     "output_type": "execute_result"
    }
   ],
   "source": [
    "# Tension are the experimental infertacial tension in mN/m obtained from NIST\n",
    "# fit_cii requires the computed saturacion points\n",
    "fit_cii(Tension, Tsat, Psaft, rhosaftl, rhosaftv, eos)"
   ]
  },
  {
   "cell_type": "code",
   "execution_count": 8,
   "metadata": {},
   "outputs": [],
   "source": [
    "# The pure component is defined with the influence parameter\n",
    "water = component('water', ms = 1.7311, sigma = 2.4539 , eps = 110.85,\n",
    "                    lambda_r = 8.308, lambda_a = 6., eAB = 1991.07, rcAB = 0.5624,\n",
    "                    rdAB = 0.4, sites = [0,2,2], cii = 1.5371939422641703e-20)\n",
    "eos = saftvrmie(water)"
   ]
  },
  {
   "cell_type": "code",
   "execution_count": 9,
   "metadata": {},
   "outputs": [],
   "source": [
    "# array to store computen interfacial tension\n",
    "tensaft = np.zeros_like(Tension)\n",
    "for i in range(n):\n",
    "    # interfacial tension result is outputed in mN/m\n",
    "    tensaft[i] = sgt_pure(rhosaftv[i], rhosaftl[i], Tsat[i], Psaft[i], eos)"
   ]
  },
  {
   "cell_type": "code",
   "execution_count": 10,
   "metadata": {},
   "outputs": [
    {
     "data": {
      "text/plain": [
       "Text(0, 0.5, '$\\\\gamma$  / mN m$^{-1}$')"
      ]
     },
     "execution_count": 10,
     "metadata": {},
     "output_type": "execute_result"
    },
    {
     "data": {
      "image/png": "[encoded data removed]",
      "text/plain": [
       "<Figure size 432x288 with 1 Axes>"
      ]
     },
     "metadata": {
      "needs_background": "light"
     },
     "output_type": "display_data"
    }
   ],
   "source": [
    "plt.plot(Tsat, tensaft, color = 'k')\n",
    "plt.plot(Tsat, Tension, 's', color = 'k')\n",
    "plt.tick_params(direction = 'in')\n",
    "plt.xlabel(r'T / K')\n",
    "plt.ylabel(r'$\\gamma$  / mN m$^{-1}$')"
   ]
  },
  {
   "cell_type": "code",
   "execution_count": null,
   "metadata": {},
   "outputs": [],
   "source": []
  }
 ],
 "metadata": {
  "kernelspec": {
   "display_name": "Python 3",
   "language": "python",
   "name": "python3"
  },
  "language_info": {
   "codemirror_mode": {
    "name": "ipython",
    "version": 3
   },
   "file_extension": ".py",
   "mimetype": "text/x-python",
   "name": "python",
   "nbconvert_exporter": "python",
   "pygments_lexer": "ipython3",
   "version": "3.8.3"
  }
 },
 "nbformat": 4,
 "nbformat_minor": 4
}
