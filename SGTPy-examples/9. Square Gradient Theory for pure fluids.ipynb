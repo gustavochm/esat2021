{
 "cells": [
  {
   "cell_type": "markdown",
   "metadata": {},
   "source": [
    "# Square Gradient Theory for Pure Components\n",
    "\n",
    "This notebook has te purpose of showing examples of computing interfacial tension of pure fluids. This calculation is based on Square Gradient Theory, which for pure fluids allows computing the interfacial tension as follows:\n",
    "\n",
    "$$ \\sigma = \\sqrt{2c_{ii}} \\int_{\\rho^v}^{\\rho^l} \\sqrt{a_0 - \\rho \\mu^0 + P^0} d\\rho $$\n",
    "\n",
    "Here, $\\sigma$ represents the interfacial tension, $\\rho^v$ and $\\rho^l$ are the vapor and liquid molar densities, respectively, $P^0$ is the vapor pressure, $a_0$ is the Helmholtz energy density and $\\mu^0$ is the equilibrium chemical potential. Both $a_0$ and $\\mu^0$ are obtained from the EoS. Finally, $c_{ii}$ is the influence parameter.\n",
    "\n",
    "SGT for pure fluids is implemented through the ``sgt_pure`` function. First, it's needed to import the necessary modules"
   ]
  },
  {
   "cell_type": "code",
   "execution_count": 1,
   "metadata": {},
   "outputs": [],
   "source": [
    "import numpy as np\n",
    "from SGTPy import component, saftvrmie\n",
    "from SGTPy.sgt import sgt_pure"
   ]
  },
  {
   "cell_type": "code",
   "execution_count": 2,
   "metadata": {},
   "outputs": [],
   "source": [
    "# The pure component is defined with the influence parameter\n",
    "water = component('water', ms = 1.7311, sigma = 2.4539 , eps = 110.85,\n",
    "                    lambda_r = 8.308, lambda_a = 6., eAB = 1991.07, rcAB = 0.5624,\n",
    "                    rdAB = 0.4, sites = [0,2,2], cii = 1.5371939422641703e-20)\n",
    "eos = saftvrmie(water)"
   ]
  },
  {
   "cell_type": "markdown",
   "metadata": {},
   "source": [
    "Now vapor-liquid equilibria has to be computed. This is done with the ``psat`` method from the EoS, which returns the pressure and densities at equilibrium.\n",
    "\n",
    "Alternatively, you can use the ``tsat`` method to compute equilibrium temperature and densities at given pressure."
   ]
  },
  {
   "cell_type": "code",
   "execution_count": 3,
   "metadata": {},
   "outputs": [],
   "source": [
    "T = 373. # K\n",
    "P0 = 1e4 # Pa\n",
    "P, vl, vv = eos.psat(T, P0=P0)\n",
    "rhol = 1/vl # mol/m3\n",
    "rhov = 1/vv # mol/m3"
   ]
  },
  {
   "cell_type": "markdown",
   "metadata": {},
   "source": [
    "Once the phase equilibrium is computed, the interfacial tension can be computed as follow:"
   ]
  },
  {
   "cell_type": "code",
   "execution_count": 4,
   "metadata": {},
   "outputs": [
    {
     "data": {
      "text/plain": [
       "array([58.84475645])"
      ]
     },
     "execution_count": 4,
     "metadata": {},
     "output_type": "execute_result"
    }
   ],
   "source": [
    "tension = sgt_pure(rhol, rhov, T, P, eos)\n",
    "tension # mN/m"
   ]
  },
  {
   "cell_type": "markdown",
   "metadata": {},
   "source": [
    "If all the calculated information is desired, the ```full_output``` options allow obtaining, density profiles, interfacial tension and grand thermodynamic potential."
   ]
  },
  {
   "cell_type": "code",
   "execution_count": 5,
   "metadata": {},
   "outputs": [],
   "source": [
    "solution = sgt_pure(rhol, rhov, T, P, eos, full_output=True)"
   ]
  },
  {
   "cell_type": "code",
   "execution_count": 6,
   "metadata": {
    "scrolled": true
   },
   "outputs": [
    {
     "data": {
      "text/plain": [
       "Text(0, 0.5, '$\\\\rho$ / m$^3$ mol$^{-1}$')"
      ]
     },
     "execution_count": 6,
     "metadata": {},
     "output_type": "execute_result"
    },
    {
     "data": {
      "image/png": "[encoded data removed]",
      "text/plain": [
       "<Figure size 432x288 with 1 Axes>"
      ]
     },
     "metadata": {
      "needs_background": "light"
     },
     "output_type": "display_data"
    }
   ],
   "source": [
    "import matplotlib.pyplot as plt\n",
    "z = solution.z\n",
    "rho = solution.rho\n",
    "plt.plot(z, rho)\n",
    "plt.xlabel(r'z/ $\\AA$')\n",
    "plt.ylabel(r'$\\rho$ / m$^3$ mol$^{-1}$')"
   ]
  },
  {
   "cell_type": "markdown",
   "metadata": {},
   "source": [
    "The procedure can be repeated in a for loop, allowing to study the interfacial behavior against the temperature. The results can be compared against experimental data."
   ]
  },
  {
   "cell_type": "code",
   "execution_count": 7,
   "metadata": {},
   "outputs": [],
   "source": [
    "#Experimental Saturation Data of water obtained from NIST\n",
    "#Saturation Temperature in Kelvin\n",
    "Tsat = np.array([290., 300., 310., 320., 330., 340., 350., 360., 370., 380.]) \n",
    "\n",
    "#Interfacial Tension in mN/m\n",
    "tension = np.array([73.21 , 71.686, 70.106, 68.47 , 66.781, 65.04 , 63.248, 61.406,\n",
    "       59.517, 57.581]) \n",
    "\n",
    "ten_sgt = np.zeros_like(tension)\n",
    "n = len(Tsat)\n",
    "\n",
    "i = 0\n",
    "P, vl, vv = eos.psat(Tsat[i], P0=1e4)\n",
    "rhol = 1/vl\n",
    "rhov = 1/vv\n",
    "ten_sgt[i] = sgt_pure(rhol, rhov, Tsat[i], P, eos, full_output = False)\n",
    "\n",
    "for i in range(1, n):\n",
    "    P, vl, vv = eos.psat(Tsat[i], P0=P)\n",
    "    rhol = 1/vl\n",
    "    rhov = 1/vv\n",
    "    ten_sgt[i] = sgt_pure(rhol, rhov, Tsat[i], P, eos, full_output = False)"
   ]
  },
  {
   "cell_type": "code",
   "execution_count": 8,
   "metadata": {},
   "outputs": [
    {
     "data": {
      "text/plain": [
       "Text(0, 0.5, 'IFT / mN/m')"
      ]
     },
     "execution_count": 8,
     "metadata": {},
     "output_type": "execute_result"
    },
    {
     "data": {
      "image/png": "[encoded data removed]",
      "text/plain": [
       "<Figure size 432x288 with 1 Axes>"
      ]
     },
     "metadata": {
      "needs_background": "light"
     },
     "output_type": "display_data"
    }
   ],
   "source": [
    "plt.plot(Tsat, tension, 'o')\n",
    "plt.plot(Tsat, ten_sgt)\n",
    "plt.xlabel('T/K')\n",
    "plt.ylabel('IFT / mN/m')"
   ]
  },
  {
   "cell_type": "markdown",
   "metadata": {},
   "source": [
    "---\n",
    "For further information about the ``sgt_pure`` function check out the documentation running: ``sgt_pure?``"
   ]
  }
 ],
 "metadata": {
  "kernelspec": {
   "display_name": "Python 3",
   "language": "python",
   "name": "python3"
  },
  "language_info": {
   "codemirror_mode": {
    "name": "ipython",
    "version": 3
   },
   "file_extension": ".py",
   "mimetype": "text/x-python",
   "name": "python",
   "nbconvert_exporter": "python",
   "pygments_lexer": "ipython3",
   "version": "3.8.3"
  }
 },
 "nbformat": 4,
 "nbformat_minor": 4
}
