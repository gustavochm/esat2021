{
 "cells": [
  {
   "cell_type": "code",
   "execution_count": 3,
   "metadata": {},
   "outputs": [],
   "source": [
    "import numpy as np\n",
    "from scipy.optimize import minimize\n",
    "from SGTPy import component, saftvrmie"
   ]
  },
  {
   "cell_type": "code",
   "execution_count": 4,
   "metadata": {},
   "outputs": [],
   "source": [
    "# Experimental equilibria data obtained from NIST WebBook\n",
    "Tsat = np.array([290., 300., 310., 320., 330., 340., 350., 360.]) # K\n",
    "Psat = np.array([ 14016.,  21865.,  32975.,  48251.,  68721.,  95527., 129920., 173260.]) # Pa\n",
    "rhol = np.array([7683.6, 7577.4, 7469.6, 7360.1, 7248.7, 7135. , 7018.7, 6899.5]) #nol/m3\n",
    "rhov = np.array([ 5.8845,  8.9152, 13.087, 18.683, 26.023, 35.466, 47.412, 62.314]) #mol/m3"
   ]
  },
  {
   "cell_type": "code",
   "execution_count": 10,
   "metadata": {},
   "outputs": [],
   "source": [
    "# objective function to optimize molecular parameters\n",
    "def fobj(inc):\n",
    "    ms, sigma, eps, lambda_r = inc\n",
    "    pure = component(ms = ms, sigma = sigma , eps = eps, lambda_r = lambda_r , lambda_a = 6.)\n",
    "    eos = saftvrmie(pure)\n",
    "    \n",
    "    #Pure component pressure and liquid density\n",
    "    P = np.zeros_like(Psat) \n",
    "    vl = np.zeros_like(rhol)\n",
    "    vv = np.zeros_like(rhov)\n",
    "    n= len(Psat)\n",
    "    for i in range(n):\n",
    "        P[i], vl[i], vv[i] = eos.psat(Tsat[i], Psat[i])\n",
    "    \n",
    "    rhosaftl = 1/vl\n",
    "    rhosaftv = 1/vv\n",
    "    \n",
    "    error = np.mean(np.abs(P/Psat - 1))\n",
    "    error += np.mean(np.abs(rhosaftl/rhol - 1))\n",
    "    error += 0.1*np.mean(np.abs(rhosaftv/rhov - 1))\n",
    "    \n",
    "    return error"
   ]
  },
  {
   "cell_type": "code",
   "execution_count": 11,
   "metadata": {},
   "outputs": [
    {
     "data": {
      "text/plain": [
       " final_simplex: (array([[  1.96834513,   4.54625563, 376.94035316,  18.34400627],\n",
       "       [  1.96834502,   4.54625559, 376.94031409,  18.34399954],\n",
       "       [  1.96834441,   4.54625617, 376.94044338,  18.34400805],\n",
       "       [  1.96834458,   4.54625598, 376.94039329,  18.34400432],\n",
       "       [  1.96834461,   4.54625598, 376.94033416,  18.34399723]]), array([0.00188235, 0.00188236, 0.00188236, 0.00188236, 0.00188236]))\n",
       "           fun: 0.0018823536739094177\n",
       "       message: 'Optimization terminated successfully.'\n",
       "          nfev: 233\n",
       "           nit: 128\n",
       "        status: 0\n",
       "       success: True\n",
       "             x: array([  1.96834513,   4.54625563, 376.94035316,  18.34400627])"
      ]
     },
     "execution_count": 11,
     "metadata": {},
     "output_type": "execute_result"
    }
   ],
   "source": [
    "# initial guess for ms, sigma, eps and lambda_r\n",
    "inc0 = np.array([2.0, 4.52313581 , 378.98125026,  19.00195008])\n",
    "minimize(fobj, inc0, method = 'Nelder-Mead')"
   ]
  }
 ],
 "metadata": {
  "kernelspec": {
   "display_name": "Python 3",
   "language": "python",
   "name": "python3"
  },
  "language_info": {
   "codemirror_mode": {
    "name": "ipython",
    "version": 3
   },
   "file_extension": ".py",
   "mimetype": "text/x-python",
   "name": "python",
   "nbconvert_exporter": "python",
   "pygments_lexer": "ipython3",
   "version": "3.7.6"
  }
 },
 "nbformat": 4,
 "nbformat_minor": 4
}
