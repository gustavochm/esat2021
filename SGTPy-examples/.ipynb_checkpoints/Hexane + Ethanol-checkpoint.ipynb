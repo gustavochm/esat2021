{
 "cells": [
  {
   "cell_type": "code",
   "execution_count": 1,
   "metadata": {},
   "outputs": [],
   "source": [
    "import numpy as np\n",
    "\n",
    "from SGTPy import component, mixture, saftvrmie\n",
    "from SGTPy.equilibrium import bubblePy\n",
    "from SGTPy.sgt import sgt_mix, sgt_mix_beta0\n",
    "\n",
    "import matplotlib.pyplot as plt"
   ]
  },
  {
   "cell_type": "code",
   "execution_count": 2,
   "metadata": {},
   "outputs": [],
   "source": [
    "ethanol = component('ethanol2C', ms = 1.7728, sigma = 3.5592 , eps = 224.50,\n",
    "                    lambda_r = 11.319, lambda_a = 6., eAB = 3018.05, rcAB = 0.3547,\n",
    "                    rdAB = 0.4, sites = [1,0,1], cii= 5.3141080872882285e-20)\n",
    "\n",
    "hexane = component('hexane', ms = 1.96720036, sigma = 4.54762477, eps = 377.60127994, \n",
    "                   lambda_r = 18.41193194, cii = 3.581510586936205e-19)\n",
    "\n",
    "\n",
    "mix = mixture(hexane, ethanol)\n",
    "# fitted to experimental data\n",
    "kij = 0.011818492037463553\n",
    "Kij = np.array([[0, kij], [kij, 0]])\n",
    "mix.kij_saft(Kij)\n",
    "eos = saftvrmie(mix)"
   ]
  },
  {
   "cell_type": "code",
   "execution_count": 3,
   "metadata": {},
   "outputs": [
    {
     "data": {
      "text/plain": [
       "      T: 298.15\n",
       "      P: 25589.11310062926\n",
       "  error: 8.159029007970275e-11\n",
       "   iter: 7\n",
       "      X: array([0.3, 0.7])\n",
       "     v1: 8.075094694264907e-05\n",
       "  Xassl: array([0.0345788 , 0.18595376])\n",
       " state1: 'Liquid'\n",
       "      Y: array([0.73246682, 0.26753318])\n",
       "     v2: 0.09554139319725925\n",
       "  Xassv: array([0.97728638, 0.98857796])\n",
       " state2: 'Vapor'"
      ]
     },
     "execution_count": 3,
     "metadata": {},
     "output_type": "execute_result"
    }
   ],
   "source": [
    "# computing bubble point\n",
    "T = 298.15 # K\n",
    "x = np.array([0.3, 0.7])\n",
    "# initial guesses for vapor compotision and pressure\n",
    "y0 = 1.*x\n",
    "P0 = 8000. # Pa\n",
    "sol = bubblePy(y0, P0, x, T, eos, full_output=True)\n",
    "sol"
   ]
  },
  {
   "cell_type": "code",
   "execution_count": 4,
   "metadata": {},
   "outputs": [],
   "source": [
    "# reading solution object\n",
    "y, P = sol.Y, sol.P\n",
    "vl, vv = sol.v1, sol.v2\n",
    "#density vector of each phase\n",
    "rhox = x/vl\n",
    "rhoy = y/vv"
   ]
  },
  {
   "cell_type": "code",
   "execution_count": 5,
   "metadata": {},
   "outputs": [
    {
     "name": "stderr",
     "output_type": "stream",
     "text": [
      "C:\\Users\\boltzmann\\miniconda3\\lib\\site-packages\\sgtpy-0.0.1-py3.7-win-amd64.egg\\SGTPy\\mixtures\\ahs_monomer.py:105: RuntimeWarning: invalid value encountered in log\n",
      "  log3 = np.log(1 - xhi3)\n",
      "C:\\Users\\boltzmann\\miniconda3\\lib\\site-packages\\sgtpy-0.0.1-py3.7-win-amd64.egg\\SGTPy\\mixtures\\ghs_chain.py:25: RuntimeWarning: invalid value encountered in log\n",
      "  k0 = -np.log(xhix_1) + (42*xhix - 39*xhix2 + 9*xhix3 - 2*xhix4)/(6*xhix_13)\n",
      "C:\\Users\\boltzmann\\miniconda3\\lib\\site-packages\\sgtpy-0.0.1-py3.7-win-amd64.egg\\SGTPy\\mixtures\\ares.py:817: RuntimeWarning: invalid value encountered in log\n",
      "  aux1 = np.log(Xass) - Xass/2 + 1/2\n"
     ]
    }
   ],
   "source": [
    "# solving sgt for beta = 0\n",
    "solb0 = sgt_mix_beta0(rhoy, rhox, T, P, eos, n = 300, method = 'liang', full_output = True)"
   ]
  },
  {
   "cell_type": "code",
   "execution_count": 6,
   "metadata": {},
   "outputs": [],
   "source": [
    "bij = 0.05719272059410664\n",
    "beta = np.array([[0, bij], [bij, 0]])\n",
    "eos.beta_sgt(beta)\n",
    "\n",
    "#solving BVP of SGT with 25 colocation points\n",
    "solb = sgt_mix(rhoy, rhox, T, P, eos, n = 25, full_output = True)"
   ]
  },
  {
   "cell_type": "code",
   "execution_count": 10,
   "metadata": {},
   "outputs": [
    {
     "name": "stdout",
     "output_type": "stream",
     "text": [
      "IFT with beta = 0:  16.826252454278695 mN/m \n",
      "IFT with beta = 0.057:  17.077937257037952 mN/m \n"
     ]
    }
   ],
   "source": [
    "print('IFT with beta = 0: ',  solb0.tension,'mN/m ')\n",
    "print('IFT with beta = 0.057: ',  solb.tension,'mN/m ')"
   ]
  },
  {
   "cell_type": "code",
   "execution_count": 9,
   "metadata": {},
   "outputs": [
    {
     "data": {
      "text/plain": [
       "Text(0, 0.5, '$\\\\rho_2$ / kmol m$^{-3}$')"
      ]
     },
     "execution_count": 9,
     "metadata": {},
     "output_type": "execute_result"
    },
    {
     "data": {
      "image/png": "[encoded data removed]",
      "text/plain": [
       "<Figure size 360x360 with 1 Axes>"
      ]
     },
     "metadata": {
      "needs_background": "light"
     },
     "output_type": "display_data"
    }
   ],
   "source": [
    "# density paths in kmol/m3\n",
    "rho = solb0.rho / 1000\n",
    "rho2 = solb.rho / 1000\n",
    "\n",
    "fig = plt.figure(figsize = (5,5))\n",
    "ax = fig.add_subplot(111)\n",
    "ax.plot(rho[0], rho[1], '--', color = 'k')\n",
    "ax.plot(rho2[0], rho2[1],color = 'k')\n",
    "ax.plot([rhox[0]/1000, rhoy[0]/1000], [rhox[1]/1000, rhoy[1]/1000], '.', color = 'k')\n",
    "\n",
    "ax.tick_params(direction = 'in')\n",
    "ax.set_xlabel(r'$\\rho_1$ / kmol m$^{-3}$')\n",
    "ax.set_ylabel(r'$\\rho_2$ / kmol m$^{-3}$')"
   ]
  },
  {
   "cell_type": "code",
   "execution_count": null,
   "metadata": {},
   "outputs": [],
   "source": []
  }
 ],
 "metadata": {
  "kernelspec": {
   "display_name": "Python 3",
   "language": "python",
   "name": "python3"
  },
  "language_info": {
   "codemirror_mode": {
    "name": "ipython",
    "version": 3
   },
   "file_extension": ".py",
   "mimetype": "text/x-python",
   "name": "python",
   "nbconvert_exporter": "python",
   "pygments_lexer": "ipython3",
   "version": "3.7.6"
  }
 },
 "nbformat": 4,
 "nbformat_minor": 4
}
