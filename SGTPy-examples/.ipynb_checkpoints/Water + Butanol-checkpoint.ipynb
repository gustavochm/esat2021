{
 "cells": [
  {
   "cell_type": "code",
   "execution_count": 1,
   "metadata": {},
   "outputs": [],
   "source": [
    "import numpy as np\n",
    "from SGTPy import component, mixture, saftvrmie\n",
    "from SGTPy.equilibrium import lle, lle_init\n",
    "from SGTPy.sgt import sgt_mix_beta0\n",
    "import matplotlib.pyplot as plt "
   ]
  },
  {
   "cell_type": "code",
   "execution_count": 2,
   "metadata": {},
   "outputs": [],
   "source": [
    "# creating pure components\n",
    "water = component('water', ms = 1.7311, sigma = 2.4539 , eps = 110.85,\n",
    "                    lambda_r = 8.308, lambda_a = 6., eAB = 1991.07, rcAB = 0.5624,\n",
    "                    rdAB = 0.4, sites = [0,2,2], cii = 1.5371939421515458e-20)\n",
    "\n",
    "butanol = component('butanol2C', ms = 1.9651, sigma = 4.1077 , eps = 277.892,\n",
    "                    lambda_r = 10.6689, lambda_a = 6., eAB = 3300.0, rcAB = 0.2615,\n",
    "                    rdAB = 0.4, sites = [1,0,1], npol = 1.45, mupol = 1.6609,\n",
    "                    cii  = 1.5018715324070352e-19)\n",
    "\n",
    "# optimized from experimental LLE\n",
    "kij, lij = np.array([-0.00736075, -0.00737153])\n",
    "\n",
    "Kij = np.array([[0, kij], [kij, 0]])\n",
    "Lij = np.array([[0., lij], [lij, 0]])\n",
    "mix = mixture(water, butanol)\n",
    "# setting interactions corrections\n",
    "mix.kij_saft(Kij)\n",
    "mix.lij_saft(Lij)\n",
    "# creating eos model\n",
    "eos = saftvrmie(mix)"
   ]
  },
  {
   "cell_type": "code",
   "execution_count": 3,
   "metadata": {},
   "outputs": [
    {
     "data": {
      "text/plain": [
       "           T: 298.15\n",
       "           P: 101325.0\n",
       " error_outer: 2.9301051053630686e-11\n",
       " error_inner: 1.2568891279627914e-10\n",
       "        iter: 19\n",
       "        beta: array([0.62430571, 0.37569429])\n",
       "       tetha: array([0.])\n",
       "           X: array([[0.96022175, 0.03977825],\n",
       "       [0.53375333, 0.46624667]])\n",
       "           v: [2.031421326505555e-05, 5.136076449089711e-05]\n",
       "        Xass: [array([0.05681887, 0.07391655, 0.01687656, 0.03815009]), array([0.06370414, 0.19812489, 0.02977361, 0.1168179 ])]\n",
       "      states: ['L', 'L']"
      ]
     },
     "execution_count": 3,
     "metadata": {},
     "output_type": "execute_result"
    }
   ],
   "source": [
    "T = 298.15 # K\n",
    "P = 1.01325e5 # Pa\n",
    "\n",
    "# global composition\n",
    "z = np.array([0.8,0.2])\n",
    "# initial composition obtained from tpd minimization\n",
    "x0, w0 = lle_init(z, T, P, eos)\n",
    "# LLE is performed as a flash that search stable phases\n",
    "sol = lle(x0, w0, z, T, P, eos, full_output = True)\n",
    "sol"
   ]
  },
  {
   "cell_type": "code",
   "execution_count": 4,
   "metadata": {},
   "outputs": [],
   "source": [
    "#reading the solution information\n",
    "X, W = sol.X\n",
    "vx, vw = sol.v\n",
    "# computing density vectors \n",
    "rhox = X/vx\n",
    "rhow = W/vw"
   ]
  },
  {
   "cell_type": "code",
   "execution_count": 5,
   "metadata": {},
   "outputs": [],
   "source": [
    "# computing IFT with SGT\n",
    "solsgt = sgt_mix_beta0(rhow, rhox, T, P, eos, full_output = True)"
   ]
  },
  {
   "cell_type": "code",
   "execution_count": 6,
   "metadata": {},
   "outputs": [
    {
     "data": {
      "text/plain": [
       "Text(0, 0.5, '$\\\\rho$ / kmol m$^{-3}$')"
      ]
     },
     "execution_count": 6,
     "metadata": {},
     "output_type": "execute_result"
    },
    {
     "data": {
      "image/png": "[encoded data removed]",
      "text/plain": [
       "<Figure size 360x360 with 1 Axes>"
      ]
     },
     "metadata": {
      "needs_background": "light"
     },
     "output_type": "display_data"
    }
   ],
   "source": [
    "rho = solsgt.rho/1000\n",
    "zs = solsgt.z\n",
    "\n",
    "fig = plt.figure(figsize = (5,5))\n",
    "ax = fig.add_subplot(111)\n",
    "\n",
    "ax.plot(zs, rho[1], color = 'k')\n",
    "ax.plot(zs, rho[0], '--',color ='k')\n",
    "ax.tick_params(direction = 'in')\n",
    "ax.set_xlabel(r'z / $\\rm \\AA$')\n",
    "ax.set_ylabel(r'$\\rho$ / kmol m$^{-3}$')"
   ]
  },
  {
   "cell_type": "code",
   "execution_count": null,
   "metadata": {},
   "outputs": [],
   "source": []
  }
 ],
 "metadata": {
  "kernelspec": {
   "display_name": "Python 3",
   "language": "python",
   "name": "python3"
  },
  "language_info": {
   "codemirror_mode": {
    "name": "ipython",
    "version": 3
   },
   "file_extension": ".py",
   "mimetype": "text/x-python",
   "name": "python",
   "nbconvert_exporter": "python",
   "pygments_lexer": "ipython3",
   "version": "3.7.6"
  }
 },
 "nbformat": 4,
 "nbformat_minor": 4
}
