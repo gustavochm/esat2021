{
 "cells": [
  {
   "cell_type": "code",
   "execution_count": 1,
   "metadata": {},
   "outputs": [],
   "source": [
    "import numpy as np\n",
    "\n",
    "from SGTPy import component, mixture, saftvrmie\n",
    "from SGTPy.equilibrium import bubblePy\n",
    "from SGTPy.fit import fit_beta"
   ]
  },
  {
   "cell_type": "code",
   "execution_count": 2,
   "metadata": {},
   "outputs": [],
   "source": [
    "ethanol = component('ethanol2C', ms = 1.7728, sigma = 3.5592 , eps = 224.50,\n",
    "                    lambda_r = 11.319, lambda_a = 6., eAB = 3018.05, rcAB = 0.3547,\n",
    "                    rdAB = 0.4, sites = [1,0,1], cii= 5.3141080872882285e-20)\n",
    "\n",
    "hexane = component('hexane', ms = 1.96720036, sigma = 4.54762477, eps = 377.60127994, \n",
    "                   lambda_r = 18.41193194, cii = 3.581510586936205e-19)\n",
    "\n",
    "mix = mixture(hexane, ethanol)\n",
    "\n",
    "# kij fitted to experimental data\n",
    "kij = 0.011818492037463553\n",
    "Kij = np.array([[0, kij], [kij, 0]])\n",
    "mix.kij_saft(Kij)\n",
    "eos = saftvrmie(mix)"
   ]
  },
  {
   "cell_type": "code",
   "execution_count": 3,
   "metadata": {},
   "outputs": [],
   "source": [
    "# Experimental IFT obtained from Jimenez et at, J. Chem. Eng. Data, vol. 45, no. 5, pp. 862–866, 2000.\n",
    "\n",
    "# Experiment temperature\n",
    "T = 298.15 # K\n",
    "\n",
    "# Experimental liquid composition\n",
    "x1 = np.array([0.0448, 0.1625, 0.2116, 0.2559, 0.3034, 0.3745, 0.4366, 0.47, 0.4974, 0.5863, 0.6452, \n",
    "                 0.6841, 0.7584, 0.7963, 0.8500, 0.9067, 0.9347]) \n",
    "\n",
    "# Experimental interfacial tension\n",
    "iftexp = np.array([21.10, 19.74, 19.26, 18.98, 18.83, 18.56, 18.33, 18.28, 18.16, 18.12, 18.06, 18.02, 17.97, 17.95,\n",
    "                  17.93, 17.91, 17.89]) # mN/m"
   ]
  },
  {
   "cell_type": "code",
   "execution_count": 4,
   "metadata": {},
   "outputs": [],
   "source": [
    "# First it is necessary to compute the phase equilibria at given experimental conditions\n",
    "\n",
    "n = len(x1)\n",
    "\n",
    "X = np.array([x1, 1-x1])\n",
    "Y = np.zeros_like(X)\n",
    "P = np.zeros_like(x1)\n",
    "vl = np.zeros_like(x1)\n",
    "vv = np.zeros_like(x1)\n",
    "\n",
    "#computing phase equilibria\n",
    "i = 0\n",
    "sol = bubblePy(X[:, i], 10000., X[:, i], T, eos, full_output = True)\n",
    "Y[:, i], P[i] = sol.Y, sol.P\n",
    "vl[i], vv[i] = sol.v1, sol.v2\n",
    "\n",
    "for i in range(1, n):\n",
    "    sol = bubblePy(Y[:, i-1], P[i-1], X[:, i], T, eos, full_output = True, v0 = [vl[i-1], vv[i-1]])\n",
    "    Y[:, i], P[i] = sol.Y, sol.P\n",
    "    vl[i], vv[i] = sol.v1, sol.v2\n",
    "\n",
    "# computing density vectors\n",
    "rhox = X/vl\n",
    "rhoy = Y/vv"
   ]
  },
  {
   "cell_type": "code",
   "execution_count": null,
   "metadata": {},
   "outputs": [],
   "source": [
    "# Beta optimization can be slow\n",
    "EquilibriumInfo = (rhoy, rhox, T*np.ones_like(x1), P)\n",
    "beta_bounds = (0.01, 0.1)\n",
    "fit_beta(beta_bounds, iftexp, EquilibriumInfo, eos)"
   ]
  },
  {
   "cell_type": "code",
   "execution_count": null,
   "metadata": {},
   "outputs": [],
   "source": [
    "fit_beta?"
   ]
  },
  {
   "cell_type": "code",
   "execution_count": null,
   "metadata": {},
   "outputs": [],
   "source": []
  }
 ],
 "metadata": {
  "kernelspec": {
   "display_name": "Python 3",
   "language": "python",
   "name": "python3"
  },
  "language_info": {
   "codemirror_mode": {
    "name": "ipython",
    "version": 3
   },
   "file_extension": ".py",
   "mimetype": "text/x-python",
   "name": "python",
   "nbconvert_exporter": "python",
   "pygments_lexer": "ipython3",
   "version": "3.7.6"
  }
 },
 "nbformat": 4,
 "nbformat_minor": 4
}
