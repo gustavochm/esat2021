{
 "cells": [
  {
   "cell_type": "markdown",
   "metadata": {},
   "source": [
    "# Fit $k_{ij}$ and $r_c^{ABij}$ interactions parameter of Ethanol and CPME\n",
    "\n",
    "This notebook has te purpose of showing how to optimize the $k_{ij}$ and $r_c^{ABij}$ for a mixture with induced association.\n",
    "\n",
    "First it's needed to import the necessary modules"
   ]
  },
  {
   "cell_type": "code",
   "execution_count": 1,
   "metadata": {},
   "outputs": [],
   "source": [
    "import numpy as np\n",
    "\n",
    "from SGTPy import component, mixture, saftvrmie\n",
    "from SGTPy.fit import fit_cross"
   ]
  },
  {
   "cell_type": "markdown",
   "metadata": {},
   "source": [
    "Now that the functions are available it is necessary to create the mixture."
   ]
  },
  {
   "cell_type": "code",
   "execution_count": 5,
   "metadata": {},
   "outputs": [],
   "source": [
    "ethanol = component('ethanol2C', ms = 1.7728, sigma = 3.5592 , eps = 224.50,\n",
    "                    lambda_r = 11.319, lambda_a = 6., eAB = 3018.05, rcAB = 0.3547,\n",
    "                    rdAB = 0.4, sites = [1,0,1], cii= 5.3141080872882285e-20)\n",
    "\n",
    "cpme = component('cpme', ms =  2.32521144, sigma = 4.13606074, eps = 343.91193798, lambda_r = 14.15484877, \n",
    "                 lambda_a = 6.0, npol = 1.91990385,mupol = 1.27, sites =[0,0,1], cii = 3.5213681817448466e-19)\n",
    "\n",
    "mix = mixture(ethanol, cpme)"
   ]
  },
  {
   "cell_type": "markdown",
   "metadata": {},
   "source": [
    "Now the experimental equilibria data is read and a tuple is created. It includes the experimental liquid composition, vapor composition, equilibrium temperature and pressure. This is done with ```datavle = (Xexp, Yexp, Texp, Pexp)```\n"
   ]
  },
  {
   "cell_type": "code",
   "execution_count": 2,
   "metadata": {},
   "outputs": [],
   "source": [
    "# Experimental data obtained from Mejia, Cartes, J. Chem. Eng. Data, vol. 64, no. 5, pp. 1970–1977, 2019\n",
    "\n",
    "# Experimental temperature saturation in K\n",
    "Texp = np.array([355.77, 346.42, 342.82, 340.41, 338.95, 337.78, 336.95, 336.29,\n",
    "       335.72, 335.3 , 334.92, 334.61, 334.35, 334.09, 333.92, 333.79,\n",
    "       333.72, 333.72, 333.81, 334.06, 334.58])\n",
    "\n",
    "# Experimental pressure in Pa\n",
    "Pexp = np.array([50000., 50000., 50000., 50000., 50000., 50000., 50000., 50000.,\n",
    "       50000., 50000., 50000., 50000., 50000., 50000., 50000., 50000.,\n",
    "       50000., 50000., 50000., 50000., 50000.])\n",
    "\n",
    "# Experimental liquid composition\n",
    "Xexp = np.array([[0.   , 0.065, 0.11 , 0.161, 0.203, 0.253, 0.301, 0.351, 0.402,\n",
    "        0.446, 0.497, 0.541, 0.588, 0.643, 0.689, 0.743, 0.785, 0.837,\n",
    "        0.893, 0.947, 1.   ],\n",
    "       [1.   , 0.935, 0.89 , 0.839, 0.797, 0.747, 0.699, 0.649, 0.598,\n",
    "        0.554, 0.503, 0.459, 0.412, 0.357, 0.311, 0.257, 0.215, 0.163,\n",
    "        0.107, 0.053, 0.   ]])\n",
    "\n",
    "# Experimental vapor composition\n",
    "Yexp = np.array([[0.   , 0.302, 0.411, 0.48 , 0.527, 0.567, 0.592, 0.614, 0.642,\n",
    "        0.657, 0.678, 0.694, 0.71 , 0.737, 0.753, 0.781, 0.801, 0.837,\n",
    "        0.883, 0.929, 1.   ],\n",
    "       [1.   , 0.698, 0.589, 0.52 , 0.473, 0.433, 0.408, 0.386, 0.358,\n",
    "        0.343, 0.322, 0.306, 0.29 , 0.263, 0.247, 0.219, 0.199, 0.163,\n",
    "        0.117, 0.071, 0.   ]])\n",
    "\n",
    "datavle = (Xexp, Yexp, Texp, Pexp)"
   ]
  },
  {
   "cell_type": "markdown",
   "metadata": {},
   "source": [
    "The function ```fit_cross``` optimize the $k_{ij}$ correction and $r_c^{ABij}$ distance. An initial guess is needed, as well as the mixture object, the index of the self-associating component and the equilibria data."
   ]
  },
  {
   "cell_type": "code",
   "execution_count": 8,
   "metadata": {},
   "outputs": [
    {
     "data": {
      "text/plain": [
       "      fun: 9.863506361752717e-05\n",
       " hess_inv: array([[ 0.18784713,  2.70754339],\n",
       "       [ 2.70754339, 43.88789817]])\n",
       "      jac: array([-1.70235126e-06,  3.82303369e-07])\n",
       "  message: 'Optimization terminated successfully.'\n",
       "     nfev: 44\n",
       "      nit: 7\n",
       "     njev: 11\n",
       "   status: 0\n",
       "  success: True\n",
       "        x: array([0.01147382, 2.23744078])"
      ]
     },
     "execution_count": 8,
     "metadata": {},
     "output_type": "execute_result"
    }
   ],
   "source": [
    "#initial guesses for kij and rcij\n",
    "x0 = [0.01015194, 2.23153033]\n",
    "fit_cross(x0, mix, assoc=0, datavle=datavle)"
   ]
  },
  {
   "cell_type": "markdown",
   "metadata": {},
   "source": [
    "For more information just run:\n",
    "```fit_cross?```"
   ]
  },
  {
   "cell_type": "code",
   "execution_count": null,
   "metadata": {},
   "outputs": [],
   "source": []
  }
 ],
 "metadata": {
  "kernelspec": {
   "display_name": "Python 3",
   "language": "python",
   "name": "python3"
  },
  "language_info": {
   "codemirror_mode": {
    "name": "ipython",
    "version": 3
   },
   "file_extension": ".py",
   "mimetype": "text/x-python",
   "name": "python",
   "nbconvert_exporter": "python",
   "pygments_lexer": "ipython3",
   "version": "3.8.3"
  }
 },
 "nbformat": 4,
 "nbformat_minor": 4
}
