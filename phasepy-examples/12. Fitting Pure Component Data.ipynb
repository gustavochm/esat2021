{
 "cells": [
  {
   "cell_type": "markdown",
   "metadata": {},
   "source": [
    "# Fitting Pure component data\n",
    "\n",
    "The purpose of this notebook is to shown how fit to vapor pressure data of pure component, volume translation for a cubic EoS and also influence paramaters used in square gradient theory."
   ]
  },
  {
   "cell_type": "code",
   "execution_count": 1,
   "metadata": {},
   "outputs": [],
   "source": [
    "import numpy as np\n",
    "from phasepy import component"
   ]
  },
  {
   "cell_type": "code",
   "execution_count": 2,
   "metadata": {},
   "outputs": [],
   "source": [
    "#Experimental Saturation Data of water obtained from NIST\n",
    "#Saturation Temperature in Kelvin\n",
    "Tsat = np.array([290., 300., 310., 320., 330., 340., 350., 360., 370., 380.]) \n",
    "\n",
    "#Saturation Pressure in bar\n",
    "Psat = np.array([0.0192  , 0.035368, 0.062311, 0.10546 , 0.17213 , 0.27188 ,\n",
    "       0.41682 , 0.62194 , 0.90535 , 1.2885  ])\n",
    "\n",
    "#Saturated Liquid density in mol/cm3\n",
    "rhol = np.array([0.05544 , 0.055315, 0.055139, 0.054919, 0.054662, 0.054371,\n",
    "       0.054049, 0.053698, 0.053321, 0.052918]) \n",
    "\n",
    "#Interfacial Tension in mN/m\n",
    "tension = np.array([73.21 , 71.686, 70.106, 68.47 , 66.781, 65.04 , 63.248, 61.406,\n",
    "       59.517, 57.581]) "
   ]
  },
  {
   "cell_type": "markdown",
   "metadata": {},
   "source": [
    "Antoine Parameters can be fitted using Temperature and Saturation pressure experimental data, as the objective function can have several local minimun an initial guess can be provided (optional)."
   ]
  },
  {
   "cell_type": "code",
   "execution_count": 3,
   "metadata": {},
   "outputs": [
    {
     "data": {
      "text/plain": [
       "(2.423780448316938e-07, [11.6573823, 3800.11357063, -46.77260501])"
      ]
     },
     "execution_count": 3,
     "metadata": {},
     "output_type": "execute_result"
    }
   ],
   "source": [
    "#Fitting Antoine Coefficients\n",
    "from phasepy.fit import fit_ant\n",
    "\n",
    "Ant = fit_ant(Tsat, Psat)\n",
    "#Objection function value, Antoine Parameters\n",
    "5.1205342479858257e-05, [1.34826650e+01, 5.02634690e+03, 9.07664231e-04]\n",
    "\n",
    "#Optionally an initial guess for the parameters can be passed to the function\n",
    "\n",
    "Ant = fit_ant(Tsat, Psat, x0 = [11, 3800, -44])\n",
    "#Objection function value, Antoine Parameters\n",
    "2.423780448316938e-07,[ 11.6573823 , 3800.11357063,  -46.77260501]"
   ]
  },
  {
   "cell_type": "markdown",
   "metadata": {},
   "source": [
    "When using Peng-Robinson-Stryjek-Vera EoS, the parameters for the $\\alpha$ function can optimized."
   ]
  },
  {
   "cell_type": "code",
   "execution_count": 4,
   "metadata": {},
   "outputs": [
    {
     "data": {
      "text/plain": [
       "(1.5233471126821199e-10, [0.87185176, -0.06621339])"
      ]
     },
     "execution_count": 4,
     "metadata": {},
     "output_type": "execute_result"
    }
   ],
   "source": [
    "#Fitting ksv for PRSV EoS\n",
    "from phasepy.fit import fit_ksv\n",
    "\n",
    "#parameters of pure component obtained from DIPPR\n",
    "name = 'water'\n",
    "Tc = 647.13 #K\n",
    "Pc = 220.55 #bar\n",
    "Zc = 0.229\n",
    "Vc = 55.948 #cm3/mol\n",
    "w = 0.344861\n",
    "pure = component(name = name, Tc = Tc, Pc = Pc, Zc = Zc, Vc = Vc, w = w)\n",
    "\n",
    "ksv = fit_ksv(pure, Tsat, Psat)\n",
    "#Objection function value, ksv Parameters\n",
    "1.5233471126821199e-10, [ 0.87185176, -0.06621339]"
   ]
  },
  {
   "cell_type": "markdown",
   "metadata": {},
   "source": [
    "When using a cubic EoS the volume can be traslated as suggested by Péneloux. In phase it is possible to optimize this parameter with liquid density experimental data as can be seen."
   ]
  },
  {
   "cell_type": "code",
   "execution_count": 5,
   "metadata": {},
   "outputs": [
    {
     "data": {
      "text/plain": [
       "(0.001270834833817397, 3.46862174)"
      ]
     },
     "execution_count": 5,
     "metadata": {},
     "output_type": "execute_result"
    }
   ],
   "source": [
    "from phasepy import prsveos\n",
    "from phasepy.fit import fit_vt\n",
    "\n",
    "#Defining the component with the optimized alpha parameters\n",
    "pure = component(name = name, Tc = Tc, Pc = Pc, Zc = Zc, Vc = Vc, w = w,\n",
    "                ksv = [ 0.87185176, -0.06621339] )\n",
    "\n",
    "vt = fit_vt(pure, prsveos, Tsat, Psat, rhol)\n",
    "#Objetive function and volume translation\n",
    "0.001270834833817397, 3.46862174"
   ]
  },
  {
   "cell_type": "markdown",
   "metadata": {},
   "source": [
    "So far saturation pressure data and liquid density has been fitted, when using a cubic equation state it is possible to fit the influence parameter used in square gradient theory for interfacial description. In phasepy the influece parameter can be fitted using a Polynomial respect the temperature.\n",
    "\n",
    "Beware that the value of the influence parameter depends of the value of densities predicted by the EoS so a volume traslation will modify the value of this parameter."
   ]
  },
  {
   "cell_type": "code",
   "execution_count": 6,
   "metadata": {},
   "outputs": [
    {
     "data": {
      "text/plain": [
       "[2.74008872e-26, 1.23088986e-23, 3.05681188e-21]"
      ]
     },
     "execution_count": 6,
     "metadata": {},
     "output_type": "execute_result"
    }
   ],
   "source": [
    "from phasepy.fit import fit_cii\n",
    "#Defining the component with the volume traslation parameter.\n",
    "pure = component(name = name, Tc = Tc, Pc = Pc, Zc = Zc, Vc = Vc, w = w,\n",
    "                ksv = [ 0.87185176, -0.06621339], c =  3.46862174)\n",
    "\n",
    "eos = prsveos(pure, volume_translation = False)\n",
    "cii = fit_cii(tension, Tsat, eos, order = 2)\n",
    "#fitted influence parameter polynomial\n",
    "[2.06553362e-26, 2.64204784e-23, 4.10320513e-21]\n",
    "eos = prsveos(pure, volume_translation = True)\n",
    "cii = fit_cii(tension, Tsat, eos, order = 2)\n",
    "#fitted influence parameter polynomial with volume translation\n",
    "[2.74008872e-26, 1.23088986e-23, 3.05681188e-21]"
   ]
  },
  {
   "cell_type": "markdown",
   "metadata": {},
   "source": [
    "Finally you can compare the fitted values against the exeprimental data."
   ]
  },
  {
   "cell_type": "code",
   "execution_count": 7,
   "metadata": {},
   "outputs": [],
   "source": [
    "import matplotlib.pyplot as plt\n",
    "from phasepy.sgt import sgt_pure\n",
    "\n",
    "water =  component(name = name, Tc = Tc, Pc = Pc, Zc = Zc, Vc = Vc, w = w,\n",
    "                ksv = [ 0.87185176, -0.06621339], c =  3.46862174,\n",
    "                   cii = [2.74008872e-26, 1.23088986e-23, 3.05681188e-21])\n",
    "\n",
    "eos = prsveos(water, volume_translation = True)\n",
    "\n",
    "P = np.zeros_like(Psat)\n",
    "vl = np.zeros_like(rhol)\n",
    "vv = np.zeros_like(rhol)\n",
    "ten = np.zeros_like(tension)\n",
    "\n",
    "n = len(Tsat)\n",
    "#computing the saturation pressure and the volumes of the phases\n",
    "for i in range(n):\n",
    "    P[i], vl[i], vv[i] = eos.psat(Tsat[i])\n",
    "\n",
    "rho_l = 1/vl\n",
    "rho_v = 1/vv\n",
    "#computing the interfacial tension\n",
    "for i in range(n):\n",
    "    ten[i] = sgt_pure(rho_v[i], rho_l[i], Tsat[i], P[i], eos)"
   ]
  },
  {
   "cell_type": "code",
   "execution_count": 8,
   "metadata": {},
   "outputs": [
    {
     "data": {
      "text/plain": [
       "Text(0, 0.5, 'IFT / mN m$^{-1}$')"
      ]
     },
     "execution_count": 8,
     "metadata": {},
     "output_type": "execute_result"
    },
    {
     "data": {
      "image/png": "[encoded data removed]",
      "text/plain": [
       "<Figure size 1008x288 with 3 Axes>"
      ]
     },
     "metadata": {
      "needs_background": "light"
     },
     "output_type": "display_data"
    }
   ],
   "source": [
    "fig = plt.figure(figsize = (14, 4))\n",
    "fig.subplots_adjust(wspace = 0.5)\n",
    "ax1 = fig.add_subplot(131)\n",
    "ax1.plot(Tsat, Psat, '.')\n",
    "ax1.plot(Tsat, P)\n",
    "ax1.set_xlabel('T/K')\n",
    "ax1.set_ylabel('Psat / bar')\n",
    "\n",
    "ax2 = fig.add_subplot(132)\n",
    "ax2.plot(Tsat, rhol, '.')\n",
    "ax2.plot(Tsat, rho_l)\n",
    "ax2.set_xlabel('T/K')\n",
    "ax2.set_ylabel(r'Liquid density / cm$^3$ mol$^{-1}$')\n",
    "\n",
    "ax3 = fig.add_subplot(133)\n",
    "ax3.plot(Tsat, tension, '.')\n",
    "ax3.plot(Tsat, ten)\n",
    "ax3.set_xlabel('T/K')\n",
    "ax3.set_ylabel('IFT / mN m$^{-1}$')\n"
   ]
  },
  {
   "cell_type": "markdown",
   "metadata": {},
   "source": [
    "For further information please also check [official documentation](https://phasepy.readthedocs.io/), or just try:\n",
    "\n",
    "```function?```"
   ]
  }
 ],
 "metadata": {
  "kernelspec": {
   "display_name": "Python 3",
   "language": "python",
   "name": "python3"
  },
  "language_info": {
   "codemirror_mode": {
    "name": "ipython",
    "version": 3
   },
   "file_extension": ".py",
   "mimetype": "text/x-python",
   "name": "python",
   "nbconvert_exporter": "python",
   "pygments_lexer": "ipython3",
   "version": "3.8.3"
  }
 },
 "nbformat": 4,
 "nbformat_minor": 2
}
