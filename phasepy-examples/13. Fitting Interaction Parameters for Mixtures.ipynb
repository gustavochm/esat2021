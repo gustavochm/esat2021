{
 "cells": [
  {
   "cell_type": "markdown",
   "metadata": {},
   "source": [
    "# Fitting interaction paramaters for mixtures\n",
    "\n",
    "---\n",
    "Let's call $\\underline{\\xi}$ the optimization parameters of a mixture. In order to optimize them, you need to provide experimental phase equilibria data. This can include VLE, LLE and VLLE data. The objective function used for each equilibria type are shown below:\n",
    "\n",
    "\n",
    "### Vapor-Liquid Equilibria Data\n",
    "\n",
    "\n",
    "$$ OF_{VLE}(\\underline{\\xi}) = \\sum_{j=1}^{Np} \\left[ \\sum_{i=1}^c (y_{i,j}^{cal} - y_{i,j}^{exp})^2 + \\left( \\frac{P_{j}^{cal} - P_{j}^{exp}}{P_{j}^{exp}} \\right)^2 \\right]$$\n",
    "\n",
    "Where, $Np$ is the number of experimental data points, $y_i$ is the vapor molar fraction of the component $i$ and $P$ is the bubble pressure. The superscripts $cal$ and $exp$ refers to the computed and experimental values, respectively.\n",
    "\n",
    "\n",
    "### Liquid-Liquid Equilibria Data\n",
    "$$ OF_{LLE}(\\underline{\\xi}) = \\sum_{j=1}^{Np} \\sum_{i=1}^c  \\left[(x_{i,j} - x_{i,j}^{exp})^2 +  (w_{i,j} - w_{i,j}^{exp})^2 \\right] $$\n",
    "\n",
    "Where, $Np$ is the number of experimental data points, $x_i$ and $w_i$ are the molar fraction of the component $i$ on the liquids phases. The superscripts $cal$ and $exp$ refers to the computed and experimental values, respectively.\n",
    "\n",
    "### Vapor-Liquid-Liquid Equilibria Data\n",
    "$$ OF_{VLLE}(\\underline{\\xi}) = \\sum_{j=1}^{Np} \\left[ \\sum_{i=1}^c  \\left[ (x_{i,j}^{cal} - x_{i,j}^{exp})^2 +  (w_{i,j}^{cal} - w_{i,j}^{exp})^2 +  (y_{i,j}^{cal} - y_{i,j}^{exp})^2 \\right] + \\left( \\frac{P_{j}^{cal}}{P_{j}^{exp}} - 1\\right)^2 \\right] $$\n",
    "\n",
    "Where, $Np$ is the number of experimental data points, $y_i$, $x_i$ and $w_i$ are the molar fraction of the component $i$ on the vapor and liquids phases, respectively. The superscripts $cal$ and $exp$ refers to the computed and experimental values, respectively.\n",
    "\n",
    "If there is data for more than one equilibria type, the errors can be added accordinly. So the objective funcion becomes:\n",
    "\n",
    "$$ OF(\\underline{\\xi}) =OF_{ELV}(\\underline{\\xi}) + OF_{ELL}(\\underline{\\xi}) + OF_{ELLV}(\\underline{\\xi})$$\n",
    "\n",
    "---\n",
    "This notebook has the purpose of showing examples of how to fit interaction parameters for binary mixtures using experimental equilibria data."
   ]
  },
  {
   "cell_type": "code",
   "execution_count": 1,
   "metadata": {},
   "outputs": [],
   "source": [
    "import numpy as np\n",
    "from phasepy import component, mixture, prsveos"
   ]
  },
  {
   "cell_type": "markdown",
   "metadata": {},
   "source": [
    "Now that the functions are available it is necessary to create the mixture."
   ]
  },
  {
   "cell_type": "code",
   "execution_count": 2,
   "metadata": {},
   "outputs": [],
   "source": [
    "water = component(name = 'Water', Tc = 647.13, Pc = 220.55, Zc = 0.229, Vc = 55.948, w = 0.344861,\n",
    "                ksv = [ 0.87292043, -0.06844994],\n",
    "                Ant =  [  11.72091059, 3852.20302815,  -44.10441047],\n",
    "                cii = [ 1.16776082e-25, -4.76738739e-23,  1.79640647e-20],\n",
    "                GC = {'H2O':1})\n",
    "\n",
    "ethanol = component(name = 'Ethanol', Tc = 514.0, Pc = 61.37, Zc = 0.241, Vc = 168.0, w = 0.643558,\n",
    "                ksv = [1.27092923, 0.0440421 ],\n",
    "                Ant = [  12.26474221, 3851.89284329,  -36.99114863],\n",
    "                cii = [ 2.35206942e-24, -1.32498074e-21,  2.31193555e-19],\n",
    "                GC = {'CH3':1, 'CH2':1, 'OH(P)':1})\n",
    "\n",
    "mix = mixture(ethanol, water)"
   ]
  },
  {
   "cell_type": "markdown",
   "metadata": {},
   "source": [
    "Now the experimental equilibria data is read and a tuple is created. It includes the experimental liquid composition, vapor composition, equilibrium temperature and pressure. This is done with ```datavle = (Xexp, Yexp, Texp, Pexp)```\n",
    "\n",
    "If the mixture exhibits other equilibria types you can supply this experimental data to the ``datalle`` or ``datavlle`` parameters.\n",
    "\n",
    "- ``datalle``: (Xexp, Wexp, Texp, Pexp)\n",
    "- ``datavlle``: (Xexp, Wexp, Yexp, Texp, Pexp)\n",
    "\n",
    "Additionally, you can set options to the SciPy's ``minimize`` function using the ``minimize_options`` parameter."
   ]
  },
  {
   "cell_type": "code",
   "execution_count": 3,
   "metadata": {
    "scrolled": true
   },
   "outputs": [],
   "source": [
    "#Vapor Liquid equilibria data obtanied from Rieder, Robert M. y A. Ralph Thompson (1949).\n",
    "# «Vapor-Liquid Equilibria Measured by a GillespieStill - Ethyl Alcohol - Water System». \n",
    "#Ind. Eng. Chem. 41.12, 2905-2908.\n",
    "\n",
    "#Saturation Pressure in bar\n",
    "Pexp = np.array([1.013, 1.013, 1.013, 1.013, 1.013, 1.013, 1.013, 1.013, 1.013,\n",
    "       1.013, 1.013, 1.013, 1.013, 1.013, 1.013, 1.013, 1.013, 1.013,\n",
    "       1.013, 1.013, 1.013, 1.013, 1.013, 1.013, 1.013, 1.013, 1.013,\n",
    "       1.013, 1.013, 1.013, 1.013, 1.013, 1.013, 1.013])\n",
    "\n",
    "#Saturation temeprature in Kelvin\n",
    "Texp = np.array([372.45, 370.05, 369.15, 369.15, 368.75, 367.95, 366.95, 366.65,\n",
    "       366.05, 363.65, 363.65, 362.55, 361.55, 361.75, 360.35, 358.55,\n",
    "       357.65, 357.15, 356.55, 356.15, 355.45, 355.15, 354.55, 354.65,\n",
    "       354.35, 354.05, 353.65, 353.35, 353.15, 352.65, 351.95, 351.65,\n",
    "       351.55, 351.45])\n",
    "\n",
    "#Liquid fraction mole array\n",
    "Xexp = np.array([[0.0028, 0.0118, 0.0137, 0.0144, 0.0176, 0.0222, 0.0246, 0.0302,\n",
    "        0.0331, 0.0519, 0.053 , 0.0625, 0.0673, 0.0715, 0.0871, 0.126 ,\n",
    "        0.143 , 0.172 , 0.206 , 0.21  , 0.255 , 0.284 , 0.321 , 0.324 ,\n",
    "        0.345 , 0.405 , 0.43  , 0.449 , 0.506 , 0.545 , 0.663 , 0.735 ,\n",
    "        0.804 , 0.917 ],\n",
    "       [0.9972, 0.9882, 0.9863, 0.9856, 0.9824, 0.9778, 0.9754, 0.9698,\n",
    "        0.9669, 0.9481, 0.947 , 0.9375, 0.9327, 0.9285, 0.9129, 0.874 ,\n",
    "        0.857 , 0.828 , 0.794 , 0.79  , 0.745 , 0.716 , 0.679 , 0.676 ,\n",
    "        0.655 , 0.595 , 0.57  , 0.551 , 0.494 , 0.455 , 0.337 , 0.265 ,\n",
    "        0.196 , 0.083 ]])\n",
    "#Vapor fraction mole array\n",
    "Yexp = np.array([[0.032, 0.113, 0.157, 0.135, 0.156, 0.186, 0.212, 0.231, 0.248,\n",
    "        0.318, 0.314, 0.339, 0.37 , 0.362, 0.406, 0.468, 0.487, 0.505,\n",
    "        0.53 , 0.527, 0.552, 0.567, 0.586, 0.586, 0.591, 0.614, 0.626,\n",
    "        0.633, 0.661, 0.673, 0.733, 0.776, 0.815, 0.906],\n",
    "       [0.968, 0.887, 0.843, 0.865, 0.844, 0.814, 0.788, 0.769, 0.752,\n",
    "        0.682, 0.686, 0.661, 0.63 , 0.638, 0.594, 0.532, 0.513, 0.495,\n",
    "        0.47 , 0.473, 0.448, 0.433, 0.414, 0.414, 0.409, 0.386, 0.374,\n",
    "        0.367, 0.339, 0.327, 0.267, 0.224, 0.185, 0.094]])\n",
    "\n",
    "datavle = (Xexp, Yexp, Texp, Pexp)"
   ]
  },
  {
   "cell_type": "markdown",
   "metadata": {},
   "source": [
    "## Fitting QMR mixing rule \n",
    "\n",
    "As an scalar is been fitted, scipy recommends to give a certain interval where the minimum could be found, the function ```fit_kij``` handles this optimization. "
   ]
  },
  {
   "cell_type": "code",
   "execution_count": 4,
   "metadata": {},
   "outputs": [
    {
     "data": {
      "text/plain": [
       "     fun: 0.004884207696586613\n",
       "    nfev: 17\n",
       "     nit: 13\n",
       " success: True\n",
       "       x: -0.10726854854935623"
      ]
     },
     "execution_count": 4,
     "metadata": {},
     "output_type": "execute_result"
    }
   ],
   "source": [
    "from phasepy.fit import fit_kij\n",
    "\n",
    "mixkij = mix.copy()\n",
    "fit_kij((-0.15, -0.05), prsveos, mixkij, datavle)"
   ]
  },
  {
   "cell_type": "markdown",
   "metadata": {},
   "source": [
    "## Fitting NRTL interaction parameters \n",
    "\n",
    "As an array is been fitted, multidimentional optimization alogirthms are used, the function ```fit_nrtl``` handles this optimization with several options available. If a fixed value of the aleatory factor is used the initial guess has the following form:\n",
    "\n",
    "nrtl0 = np.array([A12, A21])\n",
    "\n",
    "If the aleatory factor needs to be optimized it can be included setting alpha_fixed to False, in this case the initial guess has the following form:\n",
    "\n",
    "nrtl0 = np.array([A12, A21, alpha])\n",
    "\n",
    "Temperature dependent parameters can be fitted setting the option Tdep = True in ```fit_nrtl```, when this option is used the parameters are computed as:\n",
    "\n",
    "$$\n",
    "A12 = A12_0 + A12_1  T \\\\\n",
    "A21 = A21_0 + A21_1  T\n",
    "$$\n",
    "\n",
    "The initial guess passed to the fit function has the following form:\n",
    "\n",
    "nrtl0 = np.array([A12_0, A21_0, A12_1, A21_1, alpha])\n",
    "\n",
    "or, if alpha fixed is used.\n",
    "\n",
    "nrtl0 = np.array([A12_0, A21_0, A12_1, A21_1])"
   ]
  },
  {
   "cell_type": "code",
   "execution_count": 5,
   "metadata": {},
   "outputs": [
    {
     "data": {
      "text/plain": [
       "[-55.3112687, 672.701992, 0.319740734]"
      ]
     },
     "execution_count": 5,
     "metadata": {},
     "output_type": "execute_result"
    }
   ],
   "source": [
    "from phasepy.fit import fit_nrtl\n",
    "mixnrtl = mix.copy()\n",
    "\n",
    "#Initial guess of A12, A21\n",
    "nrtl0 = np.array([-80.,  650.])\n",
    "fit_nrtl(nrtl0, mixnrtl, datavle, alpha_fixed = True)\n",
    "#optimized values\n",
    "[-84.77530335, 648.78439102]\n",
    "\n",
    "#Initial guess of A12, A21\n",
    "nrtl0 = np.array([-80.,  650.,  0.2])\n",
    "fit_nrtl(nrtl0, mixnrtl, datavle, alpha_fixed = False)\n",
    "#optimized values for A12, A21, alpha\n",
    "[-5.53112687e+01,  6.72701992e+02,  3.19740734e-01]"
   ]
  },
  {
   "cell_type": "markdown",
   "metadata": {},
   "source": [
    "By default Tsonopoulos virial correlation is calculated for vapor phase, if desired ideal gas or Abbott correlation can be used."
   ]
  },
  {
   "cell_type": "code",
   "execution_count": 6,
   "metadata": {},
   "outputs": [
    {
     "data": {
      "text/plain": [
       "[-84.81672981, 648.75311712]"
      ]
     },
     "execution_count": 6,
     "metadata": {},
     "output_type": "execute_result"
    }
   ],
   "source": [
    "#Initial guess of A12, A21\n",
    "nrtl0 = np.array([-80.,  650.])\n",
    "fit_nrtl(nrtl0, mixnrtl, datavle, alpha_fixed = True, virialmodel = 'ideal_gas')\n",
    "#optimized values\n",
    "[-86.22483806, 647.6320968 ]\n",
    "\n",
    "#Initial guess of A12, A21\n",
    "nrtl0 = np.array([-80.,  650.])\n",
    "fit_nrtl(nrtl0, mixnrtl, datavle, alpha_fixed = True, virialmodel = 'Abbott')\n",
    "#optimized values\n",
    "[-84.81672981, 648.75311712]"
   ]
  },
  {
   "cell_type": "markdown",
   "metadata": {},
   "source": [
    "## Fitting Wilson interaction parameters \n",
    "\n",
    "As an array is been fitted, multidimentional optimization alogirthms are used, the function ```fit_wilson``` handles this optimization. "
   ]
  },
  {
   "cell_type": "code",
   "execution_count": 7,
   "metadata": {},
   "outputs": [
    {
     "data": {
      "text/plain": [
       "      fun: 0.00020641944078115222\n",
       " hess_inv: array([[13750200.5570337 , -6316527.26567905],\n",
       "       [-6316527.26567905,  3491909.32476459]])\n",
       "      jac: array([5.66274139e-06, 8.28284647e-06])\n",
       "  message: 'Optimization terminated successfully.'\n",
       "     nfev: 120\n",
       "      nit: 27\n",
       "     njev: 40\n",
       "   status: 0\n",
       "  success: True\n",
       "        x: array([163.97284376, 497.26813303])"
      ]
     },
     "execution_count": 7,
     "metadata": {},
     "output_type": "execute_result"
    }
   ],
   "source": [
    "from phasepy.fit import fit_wilson\n",
    "\n",
    "mixwilson = mix.copy()\n",
    "#Initial guess of A12, A21\n",
    "wilson0 = np.array([-80.,  650.])\n",
    "fit_wilson(wilson0, mixwilson, datavle)"
   ]
  },
  {
   "cell_type": "markdown",
   "metadata": {},
   "source": [
    "Similarly as when fitting nrtl parameters, Tsonopoulos virial correlation is used by default. Ideal gas or Abbott correlation can be used."
   ]
  },
  {
   "cell_type": "code",
   "execution_count": 8,
   "metadata": {},
   "outputs": [
    {
     "data": {
      "text/plain": [
       "      fun: 0.0002594197969230175\n",
       " hess_inv: array([[ 20597223.56457025, -10285609.28139361],\n",
       "       [-10285609.28139361,   5803104.92637163]])\n",
       "      jac: array([-4.26016413e-06, -1.34424772e-06])\n",
       "  message: 'Optimization terminated successfully.'\n",
       "     nfev: 120\n",
       "      nit: 26\n",
       "     njev: 40\n",
       "   status: 0\n",
       "  success: True\n",
       "        x: array([101.88677977, 519.15205769])"
      ]
     },
     "execution_count": 8,
     "metadata": {},
     "output_type": "execute_result"
    }
   ],
   "source": [
    "fit_wilson(wilson0, mixwilson, datavle, virialmodel = 'ideal_gas')\n",
    "#optimized value\n",
    "#[105.42279401, 517.2221969 ]"
   ]
  },
  {
   "cell_type": "markdown",
   "metadata": {},
   "source": [
    "## Fitting Redlich-Kister interaction parameters \n",
    "\n",
    "As an array is been fitted, multidimentional optimization alogirthms are used, the function ```fit_rk``` handles this optimization. Redlich-Kister expansion is programmed for n terms of the expansion, this fitting function will optimize considering the lenght of the array passed as an initial guess.\n",
    "\n",
    "If rk0 is an scalar it reduced to Porter model, if it is array of size 2 it reduces to Margules Model.\n",
    "\n",
    "Temperature dependent parameters can be fitted in which case the initial guess will be splitted into two array.\n",
    "\n",
    "c, c1 = np.split(rk0, 2) \n",
    "\n",
    "Finally the parameters are computed as:\n",
    "\n",
    "G = c + c1/T"
   ]
  },
  {
   "cell_type": "code",
   "execution_count": 9,
   "metadata": {},
   "outputs": [
    {
     "data": {
      "text/plain": [
       "      fun: 0.00033556181996558627\n",
       " hess_inv: array([[ 6.74260403,  6.52230489],\n",
       "       [ 6.52230489, 18.2599253 ]])\n",
       "      jac: array([-1.43033321e-06, -6.70137524e-07])\n",
       "  message: 'Optimization terminated successfully.'\n",
       "     nfev: 45\n",
       "      nit: 11\n",
       "     njev: 15\n",
       "   status: 0\n",
       "  success: True\n",
       "        x: array([ 1.1759649 , -0.44487886])"
      ]
     },
     "execution_count": 9,
     "metadata": {},
     "output_type": "execute_result"
    }
   ],
   "source": [
    "from phasepy.fit import fit_rk\n",
    "mixrk = mix.copy()\n",
    "rk0 = np.array([0, 0])\n",
    "fit_rk(rk0, mixrk, datavle, Tdep =  False)"
   ]
  },
  {
   "cell_type": "code",
   "execution_count": 10,
   "metadata": {},
   "outputs": [
    {
     "data": {
      "text/plain": [
       "      fun: 0.00034186307125771547\n",
       " hess_inv: array([[ 6.98984987,  6.69984294],\n",
       "       [ 6.69984294, 18.45910438]])\n",
       "      jac: array([-1.38110408e-06, -8.30597855e-07])\n",
       "  message: 'Optimization terminated successfully.'\n",
       "     nfev: 45\n",
       "      nit: 11\n",
       "     njev: 15\n",
       "   status: 0\n",
       "  success: True\n",
       "        x: array([ 1.16854715, -0.43874369])"
      ]
     },
     "execution_count": 10,
     "metadata": {},
     "output_type": "execute_result"
    }
   ],
   "source": [
    "fit_rk(rk0, mixrk, datavle, Tdep =  False, virialmodel = 'ideal_gas')"
   ]
  },
  {
   "cell_type": "markdown",
   "metadata": {},
   "source": [
    "After the optimizations have been carried out, fitted data can be compared against experimental data."
   ]
  },
  {
   "cell_type": "code",
   "execution_count": 11,
   "metadata": {},
   "outputs": [],
   "source": [
    "from phasepy import virialgamma\n",
    "from phasepy.equilibrium import bubbleTy\n",
    "\n",
    "prkij = prsveos(mixkij)\n",
    "virialnrtl = virialgamma(mixnrtl, actmodel = 'nrtl')\n",
    "virialwilson = virialgamma(mixwilson, actmodel = 'wilson')\n",
    "virialrk = virialgamma(mixrk, actmodel = 'rk')\n",
    "\n",
    "Ykij = np.zeros_like(Yexp)\n",
    "Tkij = np.zeros_like(Pexp)\n",
    "Ynrtl = np.zeros_like(Yexp)\n",
    "Tnrtl = np.zeros_like(Pexp)\n",
    "Ywilson = np.zeros_like(Yexp)\n",
    "Twilson = np.zeros_like(Pexp)\n",
    "Yrk = np.zeros_like(Yexp)\n",
    "Trk = np.zeros_like(Pexp)\n",
    "\n",
    "n = len(Pexp)\n",
    "\n",
    "for i in range(n):\n",
    "    Ykij[:,i],Tkij[i] = bubbleTy(Yexp[:,i],Texp[i],Xexp[:,i],Pexp[i],prkij)\n",
    "    Ynrtl[:,i],Tnrtl[i] = bubbleTy(Yexp[:,i],Texp[i],Xexp[:,i],Pexp[i],virialnrtl)\n",
    "    Ywilson[:,i],Twilson[i] = bubbleTy(Yexp[:,i],Texp[i],Xexp[:,i],Pexp[i],virialwilson)\n",
    "    Yrk[:,i],Trk[i] = bubbleTy(Yexp[:,i],Texp[i],Xexp[:,i],Pexp[i],virialrk)"
   ]
  },
  {
   "cell_type": "code",
   "execution_count": 12,
   "metadata": {},
   "outputs": [
    {
     "name": "stderr",
     "output_type": "stream",
     "text": [
      "<ipython-input-12-6e0ff6ee1611>:32: UserWarning: Matplotlib is currently using module://ipykernel.pylab.backend_inline, which is a non-GUI backend, so cannot show the figure.\n",
      "  fig.show()\n"
     ]
    },
    {
     "data": {
      "image/png": "[encoded data removed]",
      "text/plain": [
       "<Figure size 720x576 with 4 Axes>"
      ]
     },
     "metadata": {
      "needs_background": "light"
     },
     "output_type": "display_data"
    }
   ],
   "source": [
    "import matplotlib.pyplot as plt\n",
    "fig = plt.figure(figsize=(10,8))\n",
    "\n",
    "ax=fig.add_subplot(221)\n",
    "ax.plot(Xexp[0], Texp,'.', Yexp[0], Texp,'.')\n",
    "ax.plot(Xexp[0], Tkij, Ykij[0], Tkij)\n",
    "ax.set_xlabel('x,y')\n",
    "ax.set_ylabel('T/K')\n",
    "ax.text(0.5, 370, 'QMR')\n",
    "\n",
    "ax2 = fig.add_subplot(222)\n",
    "ax2.plot(Xexp[0], Texp,'.', Yexp[0], Texp,'.')\n",
    "ax2.plot(Xexp[0], Tnrtl, Ynrtl[0], Tnrtl)\n",
    "ax2.set_xlabel('x,y')\n",
    "ax2.set_ylabel('T/K')\n",
    "ax2.text(0.5, 370, 'NRTL')\n",
    "\n",
    "ax3 = fig.add_subplot(223)\n",
    "ax3.plot(Xexp[0], Texp,'.', Yexp[0], Texp,'.')\n",
    "ax3.plot(Xexp[0], Trk, Yrk[0], Trk)\n",
    "ax3.set_xlabel('x,y')\n",
    "ax3.set_ylabel('T/K')\n",
    "ax3.text(0.5, 370, 'Redlich-Kister')\n",
    "\n",
    "ax4 = fig.add_subplot(224)\n",
    "ax4.plot(Xexp[0], Texp,'.', Yexp[0], Texp,'.')\n",
    "ax4.plot(Xexp[0], Twilson, Ywilson[0], Twilson)\n",
    "ax4.set_xlabel('x,y')\n",
    "ax4.set_ylabel('T/K')\n",
    "ax4.text(0.5, 370, 'Wilson')\n",
    "\n",
    "fig.show()"
   ]
  },
  {
   "cell_type": "markdown",
   "metadata": {},
   "source": [
    "For further information please also check [official documentation](https://phasepy.readthedocs.io/), or just try:\n",
    "\n",
    "```function?```"
   ]
  },
  {
   "cell_type": "code",
   "execution_count": null,
   "metadata": {},
   "outputs": [],
   "source": []
  }
 ],
 "metadata": {
  "kernelspec": {
   "display_name": "Python 3",
   "language": "python",
   "name": "python3"
  },
  "language_info": {
   "codemirror_mode": {
    "name": "ipython",
    "version": 3
   },
   "file_extension": ".py",
   "mimetype": "text/x-python",
   "name": "python",
   "nbconvert_exporter": "python",
   "pygments_lexer": "ipython3",
   "version": "3.8.3"
  }
 },
 "nbformat": 4,
 "nbformat_minor": 2
}
