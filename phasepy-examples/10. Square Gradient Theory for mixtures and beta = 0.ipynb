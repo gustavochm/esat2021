{
 "cells": [
  {
   "cell_type": "markdown",
   "metadata": {},
   "source": [
    "# Square Gradient Theory for Mixtures\n",
    "\n",
    "Square Gradient Theory allows studying the interfacial behavior of fluid. SGT proposes that the Helmholtz free energy density at the interface can be described by the sum of a homogeneous and a gradient contribution, in which the density profiles between the bulk phases are mean to minimize the energy of the system. This results in the following Euler-Lagrange system: \n",
    "\n",
    "$$ \\sum_j c_{ij} \\frac{d^2 \\rho_j}{dz^2} = \\mu_i - \\mu_i^0 \\qquad i = 1,...,c$$ \n",
    "$$ \\rho(z \\rightarrow -\\infty) = \\rho^\\alpha \\qquad \\rho(z \\rightarrow \\infty) = \\rho^\\beta $$\n",
    "\n",
    "Here, $z$ represents the interfacial position,  $\\mu$, the chemical potential and $\\rho$ the density vector. The superscript 0 refers to the bulk phase value and $\\alpha$, $\\beta$ to the bulk phases index. Finally, $c_{ij}$, represents the cross-influence parameter between molecule $i$ and $j$ and, in general, is computed as the geometric mean of the pure fluid's influence parameter and a correction factor:\n",
    "\n",
    "$$ c_{ij} = (1 - \\beta_{ij}) \\sqrt{c_{ii} c_{jj}} $$\n",
    "\n",
    "The solution procedure of the SGT strongly depends on whether the influence parameter matrix is singular or not. If all $\\beta_{ij} = 0$, the matrix is singular and the differential equation reduces to the following algebraic system of equations.\n",
    "\n",
    "$$ \\sqrt{c_{rr}} \\left[ \\mu_i - \\mu_i^0 \\right] = \\sqrt{c_{ii}} \\left[ \\mu_r - \\mu_r^0 \\right] \\qquad  i = 1,...,c, i \\neq r $$\n",
    "\n",
    "Here $r$ refers to the reference component index.\n",
    "\n",
    "Once the density profiles are solved the interfacial tension can be computed as:\n",
    "\n",
    "$$ \\sigma =  \\int_{-\\infty}^{\\infty} \\sum_i \\sum_j c_{ij} \\frac{d\\rho_i}{dz} \\frac{d\\rho_j}{dz} dz $$\n",
    "\n",
    "This notebook has the purpose of showing examples of computing interfacial tension of mixtures and $\\beta_{ij} = 0$.\n",
    "\n",
    "First, it's needed to import the necessary modules"
   ]
  },
  {
   "cell_type": "code",
   "execution_count": 1,
   "metadata": {},
   "outputs": [],
   "source": [
    "import numpy as np\n",
    "from phasepy import component, mixture, prsveos\n",
    "from phasepy.equilibrium import bubblePy\n",
    "from phasepy.sgt import sgt_mix_beta0\n",
    "import matplotlib.pyplot as plt"
   ]
  },
  {
   "cell_type": "markdown",
   "metadata": {},
   "source": [
    "Then a mixture and the EoS are created."
   ]
  },
  {
   "cell_type": "code",
   "execution_count": 2,
   "metadata": {},
   "outputs": [],
   "source": [
    "#component creation\n",
    "water =  component(name = 'Water', Tc = 647.13, Pc = 220.55, Zc = 0.229, Vc = 55.948, w = 0.344861,\n",
    "                ksv = [ 0.87185176, -0.06621339],\n",
    "                cii = [2.06553362e-26, 2.64204784e-23, 4.10320513e-21],\n",
    "                GC = {'H2O':1})\n",
    "\n",
    "ethanol = component(name = 'Ethanol', Tc = 514.0, Pc = 61.37, Zc = 0.241, Vc = 168.0, w = 0.643558,\n",
    "                ksv = [1.27092923, 0.0440421 ],\n",
    "                cii = [ 2.35206942e-24, -1.32498074e-21,  2.31193555e-19],\n",
    "                GC = {'CH3':1, 'CH2':1, 'OH(P)':1})\n",
    "\n",
    "mix = mixture(ethanol, water)\n",
    "mix.unifac()\n",
    "eos1 = prsveos(mix, 'mhv_unifac')"
   ]
  },
  {
   "cell_type": "markdown",
   "metadata": {},
   "source": [
    "With the ``eos`` object the equilibrium point is computed with the ``bubblePy`` function.  For this example, the bubble point of a mixture of x1 = 0.3 at 320K is computed."
   ]
  },
  {
   "cell_type": "code",
   "execution_count": 3,
   "metadata": {},
   "outputs": [],
   "source": [
    "T = 320. #K\n",
    "X = np.array([0.3, 0.7])\n",
    "P0 = 0.3 #bar\n",
    "Y0 = np.array([0.7, 0.3])\n",
    "\n",
    "#The full_output option allows to obtain the compositions and volume of the phases\n",
    "sol = bubblePy(Y0, P0, X, T, eos1, full_output = True)\n",
    "Y = sol.Y\n",
    "P = sol.P\n",
    "vl = sol.v1\n",
    "vv = sol.v2\n",
    "\n",
    "#computing the density vector\n",
    "rhol = X / vl\n",
    "rhov = Y / vv"
   ]
  },
  {
   "cell_type": "markdown",
   "metadata": {},
   "source": [
    "If the ```full_output``` is set to false, the densities vector of the phases can be computed as follows:"
   ]
  },
  {
   "cell_type": "code",
   "execution_count": 4,
   "metadata": {},
   "outputs": [],
   "source": [
    "rhol = eos1.density(X, T, P, 'L') * X\n",
    "rhov = eos1.density(Y, T, P, 'V') * Y "
   ]
  },
  {
   "cell_type": "markdown",
   "metadata": {},
   "source": [
    "With the computed equilibrium values (rhov, rhol, T, P) SGT can be used to study the interfacial behavior of the mixture. \n",
    "\n",
    "To solve the density profiles there are two available method:\n",
    "- ``reference``: used the reference component method. The parameter ``s`` sets the index for the reference component.\n",
    "- ``cornelisse``: uses Cornlisse's path function:\n",
    "\n",
    "$$ (dh)^2 = \\sum_i  c_{ii} d\\rho_i^2$$\n",
    "\n",
    "- ``liang``: uses [Liang's path function](https://www.sciencedirect.com/science/article/pii/S0378381216300450):\n",
    "\n",
    "$$ h = \\sum_i \\sqrt{c_{ii}} \\rho_i $$\n",
    "\n",
    "This path function (``h``) is coupled to the algebraic system and allows solving the density profile even when there are multiple stationary points in the interface. Additionally, Liang's path function defines a parametric variable $\\alpha$ which is zero at the equilibrium conditions. The values of $\\alpha$ can be used to check if the geometric mixing rule for the influence parameter is suitable for the mixture."
   ]
  },
  {
   "cell_type": "code",
   "execution_count": 5,
   "metadata": {},
   "outputs": [
    {
     "name": "stderr",
     "output_type": "stream",
     "text": [
      "C:\\Users\\Gusta\\anaconda3\\lib\\site-packages\\scipy\\optimize\\minpack.py:175: RuntimeWarning: The iteration is not making good progress, as measured by the \n",
      "  improvement from the last ten iterations.\n",
      "  warnings.warn(msg, RuntimeWarning)\n"
     ]
    }
   ],
   "source": [
    "#if reference component is set to ethanol (index = 0) a lower value is obtained as the \n",
    "#full density profile was not calculated because of a stationary point in the interface\n",
    "solr1 = sgt_mix_beta0(rhov, rhol, T, P, eos1, s = 0, n = 100, method = 'reference', full_output = True)\n",
    "\n",
    "#water doesnt show surface activity across the interface and the density profiles are fully calculated\n",
    "solr2 = sgt_mix_beta0(rhov, rhol, T, P, eos1, s = 1, n = 100, method = 'reference', full_output = True)\n",
    "\n",
    "#Using Liang path function the density profiles are computed directly\n",
    "soll = sgt_mix_beta0(rhov, rhol, T, P, eos1, n= 500, method = 'liang', full_output = True)\n",
    "\n",
    "#Cornelisse path function also allows to compute the density profiles\n",
    "solc = sgt_mix_beta0(rhov, rhol, T, P, eos1, n = 500, method = 'cornelisse', full_output = True)"
   ]
  },
  {
   "cell_type": "code",
   "execution_count": 6,
   "metadata": {},
   "outputs": [
    {
     "name": "stdout",
     "output_type": "stream",
     "text": [
      "Reference component method (1) :  15.816492169904349 mN/m\n",
      "Reference component method (2) :  27.28513150164442 mN/m\n",
      "Liang path Function (1) :  27.28453369124524 mN/m\n",
      "Cornelisse path Function (1) :  27.28427470523618 mN/m\n"
     ]
    }
   ],
   "source": [
    "print('Reference component method (1) : ', solr1.tension, 'mN/m')\n",
    "print('Reference component method (2) : ', solr2.tension, 'mN/m')\n",
    "print('Liang path Function (1) : ', soll.tension, 'mN/m')\n",
    "print('Cornelisse path Function (1) : ', solc.tension, 'mN/m')"
   ]
  },
  {
   "cell_type": "markdown",
   "metadata": {},
   "source": [
    "The ```full_output``` options allows to obtain tension value, density profiles and grand thermodynamic potential.\n",
    "Those values are accessed similar as SciPy OptimizeResult.\n",
    "\n",
    "1. sol.tension -> calculated IFT\n",
    "2. sol.rho -> density array\n",
    "3. sol.z -> interfacial lenght array\n",
    "4. sol.GPT -> grand thermodynamic potential\n",
    "\n",
    "\n",
    "The results can be plotted an compared. As can be seen, when ethanol is used as a reference component this method is not able to compute the density profile from one bulk phase to another.\n",
    "When studying the alpha variable from Liang path function it can be seen that its value at the edge is zero as well as somehwehre in the middle. This is expected when the geometric mean rule for the influence parameter with no correction can be used for the mixture."
   ]
  },
  {
   "cell_type": "code",
   "execution_count": 7,
   "metadata": {},
   "outputs": [
    {
     "data": {
      "text/plain": [
       "Text(0.5, 0, 'path function')"
      ]
     },
     "execution_count": 7,
     "metadata": {},
     "output_type": "execute_result"
    },
    {
     "data": {
      "image/png": "[encoded data removed]",
      "text/plain": [
       "<Figure size 720x288 with 2 Axes>"
      ]
     },
     "metadata": {
      "needs_background": "light"
     },
     "output_type": "display_data"
    }
   ],
   "source": [
    "rhor1 = 1000 * solr1.rho #kmol/m3\n",
    "rhor2 = 1000 * solr2.rho #kmol/m3\n",
    "\n",
    "rholiang = 1000 * soll.rho #kmol/m3\n",
    "alphas = soll.alphas\n",
    "path = soll.path\n",
    "\n",
    "rhoc = 1000* solc.rho\n",
    "\n",
    "\n",
    "fig = plt.figure(figsize = (10, 4))\n",
    "fig.subplots_adjust( wspace=0.3)\n",
    "ax1 = fig.add_subplot(121)\n",
    "ax1.plot(rhoc[0], rhoc[1], color = 'blue')\n",
    "ax1.plot(rholiang[0], rholiang[1], color = 'red')\n",
    "ax1.plot(rhor2[0], rhor2[1], color = 'cyan')\n",
    "ax1.plot(rhor1[0], rhor1[1], color = 'black')\n",
    "ax1.plot(1000* rhov[0], 1000*rhov[1], 'o', color = 'k')\n",
    "ax1.plot(1000*rhol[0], 1000*rhol[1], 'o', color = 'k')\n",
    "ax1.set_xlabel(r'$\\rho_1$ /  kmol m$^{-3}$')\n",
    "ax1.set_ylabel(r'$\\rho_2$ / kmol m$^{-3}$')\n",
    "\n",
    "ax2 = fig.add_subplot(122)\n",
    "ax2.plot(path, alphas)\n",
    "ax2.axhline(y = 0, linestyle = '--',color = 'r')\n",
    "ax2.set_ylabel(r'$\\alpha$')\n",
    "ax2.set_xlabel(r'path function')"
   ]
  },
  {
   "cell_type": "markdown",
   "metadata": {},
   "source": [
    "A more challenging mixture to analyze is ethanol and hexane. This mixture has several stationary points across the interface making its calculations tricky. Similar as before, equilibrium has to be computed. "
   ]
  },
  {
   "cell_type": "code",
   "execution_count": 8,
   "metadata": {},
   "outputs": [],
   "source": [
    "hexane = component(name = 'n-Hexane', Tc = 507.6, Pc = 30.25, Zc = 0.266, Vc = 371.0, w = 0.301261, \n",
    "                ksv = [ 0.81185833, -0.08790848],\n",
    "                cii = [ 5.03377433e-24, -3.41297789e-21,  9.97008208e-19],\n",
    "                GC = {'CH3':2, 'CH2':4})\n",
    "\n",
    "mix = mixture(ethanol, hexane)\n",
    "\n",
    "a12, a21 = np.array([1141.56994427,  125.25729314])\n",
    "A = np.array([[0, a12], [a21, 0]])\n",
    "mix.wilson(A)\n",
    "\n",
    "eos2 = prsveos(mix, 'mhv_wilson')\n",
    "\n",
    "T = 320 #K\n",
    "X = np.array([0.3, 0.7])\n",
    "P0 = 0.3 #bar\n",
    "Y0 = np.array([0.7, 0.3])\n",
    "\n",
    "sol = bubblePy(Y0, P0, X, T, eos2, full_output = True)\n",
    "Y = sol.Y\n",
    "P = sol.P\n",
    "vl = sol.v1\n",
    "vv = sol.v2\n",
    "\n",
    "#computing the density vector\n",
    "rhol = X / vl\n",
    "rhov = Y / vv"
   ]
  },
  {
   "cell_type": "markdown",
   "metadata": {},
   "source": [
    "Then SGT is used with the different methods available for beta = 0"
   ]
  },
  {
   "cell_type": "code",
   "execution_count": 9,
   "metadata": {},
   "outputs": [
    {
     "name": "stderr",
     "output_type": "stream",
     "text": [
      "C:\\Users\\Gusta\\anaconda3\\lib\\site-packages\\scipy\\optimize\\minpack.py:175: RuntimeWarning: The iteration is not making good progress, as measured by the \n",
      "  improvement from the last ten iterations.\n",
      "  warnings.warn(msg, RuntimeWarning)\n",
      "C:\\Users\\Gusta\\anaconda3\\lib\\site-packages\\phasepy-0.0.49-py3.8-win-amd64.egg\\phasepy\\cubic\\cubicmix.py:573: RuntimeWarning: invalid value encountered in log\n",
      "  g = np.log(V_B/V)\n",
      "C:\\Users\\Gusta\\anaconda3\\lib\\site-packages\\phasepy-0.0.49-py3.8-win-amd64.egg\\phasepy\\cubic\\cubicmix.py:574: RuntimeWarning: invalid value encountered in log\n",
      "  f = np.log(Vc1B / Vc2B) / (R * B * (c1 - c2))\n"
     ]
    }
   ],
   "source": [
    "solr1 = sgt_mix_beta0(rhov, rhol, T, P, eos2, s = 0, n = 100, method = 'reference', full_output = True)\n",
    "solr2 = sgt_mix_beta0(rhov, rhol, T, P, eos2, s = 1, n = 100, method = 'reference', full_output = True)\n",
    "\n",
    "soll = sgt_mix_beta0(rhov, rhol, T, P, eos2, n= 500, method = 'liang', full_output = True)\n",
    "\n",
    "solc = sgt_mix_beta0(rhov, rhol, T, P, eos2, n= 500, method = 'cornelisse', full_output = True)"
   ]
  },
  {
   "cell_type": "code",
   "execution_count": 10,
   "metadata": {},
   "outputs": [
    {
     "name": "stdout",
     "output_type": "stream",
     "text": [
      "Reference component method (1) :  12.92079976927285 mN/m\n",
      "Reference component method (2) :  15.587006704215941 mN/m\n",
      "Liang path Function (1) :  14.39027387403722 mN/m\n",
      "Cornelisse path Function (1) :  15.645030807866117 mN/m\n"
     ]
    }
   ],
   "source": [
    "print('Reference component method (1) : ', solr1.tension, 'mN/m')\n",
    "print('Reference component method (2) : ', solr2.tension, 'mN/m')\n",
    "print('Liang path Function (1) : ', soll.tension, 'mN/m')\n",
    "print('Cornelisse path Function (1) : ', solc.tension, 'mN/m')"
   ]
  },
  {
   "cell_type": "markdown",
   "metadata": {},
   "source": [
    "Finally, the density profiles can be plotted. As can be seen, only Cornelisse path function is able to compute the density profiles from one bluk phase to another correctly. Reference method and Liang path function stop a one of the stationary points. \n",
    "\n",
    "When studying the alpha variable from Liang path function it can be seen that the end value is not zero. This variable should take the value of zero at three values: at the edges and somewehre in the middle. This is a clear sign that the geometric mean rule for the influence parameter is not suitable for this mixture. "
   ]
  },
  {
   "cell_type": "code",
   "execution_count": 11,
   "metadata": {},
   "outputs": [
    {
     "data": {
      "text/plain": [
       "Text(0.5, 0, 'path function')"
      ]
     },
     "execution_count": 11,
     "metadata": {},
     "output_type": "execute_result"
    },
    {
     "data": {
      "image/png": "[encoded data removed]",
      "text/plain": [
       "<Figure size 720x288 with 2 Axes>"
      ]
     },
     "metadata": {
      "needs_background": "light"
     },
     "output_type": "display_data"
    }
   ],
   "source": [
    "rhor1 = 1000 * solr1.rho #kmol/m3\n",
    "rhor2 = 1000 * solr2.rho #kmol/m3\n",
    "\n",
    "rholiang = 1000 * soll.rho #kmol/m3\n",
    "alphas = soll.alphas\n",
    "path = soll.path\n",
    "\n",
    "rhoc = 1000* solc.rho\n",
    "\n",
    "fig = plt.figure(figsize = (10, 4))\n",
    "fig.subplots_adjust( wspace=0.3)\n",
    "ax1 = fig.add_subplot(121)\n",
    "ax1.plot(rhoc[0], rhoc[1], color = 'blue')\n",
    "ax1.plot(rholiang[0], rholiang[1], color = 'red')\n",
    "ax1.plot(rhor1[0], rhor1[1], color = 'yellow')\n",
    "ax1.plot(rhor2[0], rhor2[1], color = 'cyan')\n",
    "ax1.plot(1000 * rhov[0], 1000*rhov[1], 'o', color = 'k')\n",
    "ax1.plot(1000 * rhol[0], 1000*rhol[1], 'o', color = 'k')\n",
    "ax1.set_xlabel(r'$\\rho_1$ / kmol m$^{-3}$')\n",
    "ax1.set_ylabel(r'$\\rho_2$ / kmol m$^{-3}$')\n",
    "\n",
    "ax2 = fig.add_subplot(122)\n",
    "ax2.plot(path, alphas)\n",
    "ax2.axhline(y = 0, linestyle = '--',color = 'r')\n",
    "ax2.set_ylabel(r'$\\alpha$')\n",
    "ax2.set_xlabel(r'path function')"
   ]
  },
  {
   "cell_type": "markdown",
   "metadata": {},
   "source": [
    "For further information please also check [official documentation](https://phasepy.readthedocs.io/), or just try:\n",
    "\n",
    "```function?```"
   ]
  },
  {
   "cell_type": "code",
   "execution_count": null,
   "metadata": {},
   "outputs": [],
   "source": []
  }
 ],
 "metadata": {
  "kernelspec": {
   "display_name": "Python 3",
   "language": "python",
   "name": "python3"
  },
  "language_info": {
   "codemirror_mode": {
    "name": "ipython",
    "version": 3
   },
   "file_extension": ".py",
   "mimetype": "text/x-python",
   "name": "python",
   "nbconvert_exporter": "python",
   "pygments_lexer": "ipython3",
   "version": "3.8.3"
  }
 },
 "nbformat": 4,
 "nbformat_minor": 2
}
